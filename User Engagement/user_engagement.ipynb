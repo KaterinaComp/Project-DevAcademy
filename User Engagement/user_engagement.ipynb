{
 "cells": [
  {
   "cell_type": "code",
   "execution_count": 3,
   "metadata": {},
   "outputs": [],
   "source": [
    "import pandas as pd\n",
    "import plotly.express as px\n",
    "import plotly.io as pio\n",
    "import plotly.graph_objects as go\n",
    "pio.templates.default = \"plotly_white\"\n",
    "import matplotlib.pyplot as plt\n",
    "import seaborn as sns"
   ]
  },
  {
   "cell_type": "code",
   "execution_count": 4,
   "metadata": {},
   "outputs": [
    {
     "name": "stdout",
     "output_type": "stream",
     "text": [
      "      Client ID  Sessions Avg. Session Duration Bounce Rate\n",
      "0  5.778476e+08       367              00:01:35      87.19%\n",
      "1  1.583822e+09       260              00:01:04      29.62%\n",
      "2  1.030699e+09       237              00:00:02      99.16%\n",
      "3  1.025030e+09       226              00:02:22      25.66%\n",
      "4  1.469968e+09       216              00:01:23      46.76%\n"
     ]
    }
   ],
   "source": [
    "data = pd.read_csv(\"bounce_rate.csv\")\n",
    "print(data.head())"
   ]
  },
  {
   "cell_type": "code",
   "execution_count": 5,
   "metadata": {},
   "outputs": [
    {
     "name": "stdout",
     "output_type": "stream",
     "text": [
      "<class 'pandas.core.frame.DataFrame'>\n",
      "RangeIndex: 999 entries, 0 to 998\n",
      "Data columns (total 4 columns):\n",
      " #   Column                 Non-Null Count  Dtype  \n",
      "---  ------                 --------------  -----  \n",
      " 0   Client ID              999 non-null    float64\n",
      " 1   Sessions               999 non-null    int64  \n",
      " 2   Avg. Session Duration  999 non-null    object \n",
      " 3   Bounce Rate            999 non-null    object \n",
      "dtypes: float64(1), int64(1), object(2)\n",
      "memory usage: 31.3+ KB\n"
     ]
    }
   ],
   "source": [
    "data.info()"
   ]
  },
  {
   "cell_type": "code",
   "execution_count": 6,
   "metadata": {},
   "outputs": [
    {
     "data": {
      "text/plain": [
       "Client ID                0\n",
       "Sessions                 0\n",
       "Avg. Session Duration    0\n",
       "Bounce Rate              0\n",
       "dtype: int64"
      ]
     },
     "execution_count": 6,
     "metadata": {},
     "output_type": "execute_result"
    }
   ],
   "source": [
    "## Data Cleaning\n",
    "data.isnull().sum()"
   ]
  },
  {
   "cell_type": "code",
   "execution_count": 7,
   "metadata": {},
   "outputs": [
    {
     "name": "stdout",
     "output_type": "stream",
     "text": [
      "Client ID                999\n",
      "Sessions                  89\n",
      "Avg. Session Duration    461\n",
      "Bounce Rate              390\n",
      "dtype: int64\n"
     ]
    }
   ],
   "source": [
    "## How many types of diffenent valies in each column\n",
    "unique_values = data.nunique()\n",
    "print(unique_values)"
   ]
  },
  {
   "cell_type": "code",
   "execution_count": 8,
   "metadata": {},
   "outputs": [
    {
     "data": {
      "text/html": [
       "<div>\n",
       "<style scoped>\n",
       "    .dataframe tbody tr th:only-of-type {\n",
       "        vertical-align: middle;\n",
       "    }\n",
       "\n",
       "    .dataframe tbody tr th {\n",
       "        vertical-align: top;\n",
       "    }\n",
       "\n",
       "    .dataframe thead th {\n",
       "        text-align: right;\n",
       "    }\n",
       "</style>\n",
       "<table border=\"1\" class=\"dataframe\">\n",
       "  <thead>\n",
       "    <tr style=\"text-align: right;\">\n",
       "      <th></th>\n",
       "      <th>count</th>\n",
       "      <th>mean</th>\n",
       "      <th>std</th>\n",
       "      <th>min</th>\n",
       "      <th>25%</th>\n",
       "      <th>50%</th>\n",
       "      <th>75%</th>\n",
       "      <th>max</th>\n",
       "    </tr>\n",
       "  </thead>\n",
       "  <tbody>\n",
       "    <tr>\n",
       "      <th>Client ID</th>\n",
       "      <td>999.0</td>\n",
       "      <td>1.036401e+09</td>\n",
       "      <td>6.151503e+08</td>\n",
       "      <td>184918.1681</td>\n",
       "      <td>480182432.7</td>\n",
       "      <td>1.029507e+09</td>\n",
       "      <td>1.587982e+09</td>\n",
       "      <td>2.063338e+09</td>\n",
       "    </tr>\n",
       "    <tr>\n",
       "      <th>Sessions</th>\n",
       "      <td>999.0</td>\n",
       "      <td>3.225926e+01</td>\n",
       "      <td>2.465859e+01</td>\n",
       "      <td>17.0000</td>\n",
       "      <td>21.0</td>\n",
       "      <td>2.500000e+01</td>\n",
       "      <td>3.500000e+01</td>\n",
       "      <td>3.670000e+02</td>\n",
       "    </tr>\n",
       "  </tbody>\n",
       "</table>\n",
       "</div>"
      ],
      "text/plain": [
       "           count          mean           std          min          25%  \\\n",
       "Client ID  999.0  1.036401e+09  6.151503e+08  184918.1681  480182432.7   \n",
       "Sessions   999.0  3.225926e+01  2.465859e+01      17.0000         21.0   \n",
       "\n",
       "                    50%           75%           max  \n",
       "Client ID  1.029507e+09  1.587982e+09  2.063338e+09  \n",
       "Sessions   2.500000e+01  3.500000e+01  3.670000e+02  "
      ]
     },
     "execution_count": 8,
     "metadata": {},
     "output_type": "execute_result"
    }
   ],
   "source": [
    "# Statistical description and understanding of dispersion of data\n",
    "data.describe().T"
   ]
  },
  {
   "cell_type": "code",
   "execution_count": 9,
   "metadata": {},
   "outputs": [
    {
     "name": "stdout",
     "output_type": "stream",
     "text": [
      "        Client ID  Sessions  Avg. Session Duration  Bounce Rate\n",
      "0    5.778476e+08       367               1.583333        87.19\n",
      "1    1.583822e+09       260               1.066667        29.62\n",
      "2    1.030699e+09       237               0.033333        99.16\n",
      "3    1.025030e+09       226               2.366667        25.66\n",
      "4    1.469968e+09       216               1.383333        46.76\n",
      "..            ...       ...                    ...          ...\n",
      "994  1.049263e+09        17               7.733333        41.18\n",
      "995  1.145806e+09        17               5.616667        47.06\n",
      "996  1.153811e+09        17               0.200000        94.12\n",
      "997  1.182133e+09        17               1.216667        88.24\n",
      "998  1.184187e+09        17               2.566667        64.71\n",
      "\n",
      "[999 rows x 4 columns]\n"
     ]
    }
   ],
   "source": [
    "## The Avg. Session Duration and Bounce Rate columns are not numerical. We need to convert them into appropriate data types for this task\n",
    "\n",
    "## We removed the first character from each value in the “Avg. Session Duration” column, representing a unit of time. \n",
    "## Then, we converted the values in the “Avg. Session Duration” column to a standardized time delta format, representing time durations. \n",
    "## Then, we further converted the time delta values to minutes, providing the average session duration in a numeric format. \n",
    "## Similarly, we removed the percentage sign from each value in the “Bounce Rate” column and converted them to float values, \n",
    "## representing the bounce rate as decimals.\n",
    "\n",
    "data['Avg. Session Duration'] = data['Avg. Session Duration'].str[1:]\n",
    "data['Avg. Session Duration'] = pd.to_timedelta(data['Avg. Session Duration'])\n",
    "data['Avg. Session Duration'] = data['Avg. Session Duration'] / pd.Timedelta(minutes=1)\n",
    "data['Bounce Rate'] = data['Bounce Rate'].str.rstrip('%').astype('float')\n",
    "print(data)"
   ]
  },
  {
   "cell_type": "code",
   "execution_count": 10,
   "metadata": {},
   "outputs": [
    {
     "name": "stdout",
     "output_type": "stream",
     "text": [
      "          Client ID    Sessions  Avg. Session Duration  Bounce Rate\n",
      "count  9.990000e+02  999.000000             999.000000   999.000000\n",
      "mean   1.036401e+09   32.259259               3.636520    65.307978\n",
      "std    6.151503e+08   24.658588               4.040562    22.997270\n",
      "min    1.849182e+05   17.000000               0.000000     4.880000\n",
      "25%    4.801824e+08   21.000000               0.891667    47.370000\n",
      "50%    1.029507e+09   25.000000               2.466667    66.670000\n",
      "75%    1.587982e+09   35.000000               4.816667    85.190000\n",
      "max    2.063338e+09  367.000000              30.666667   100.000000\n"
     ]
    }
   ],
   "source": [
    "print(data.describe())"
   ]
  },
  {
   "cell_type": "code",
   "execution_count": 11,
   "metadata": {},
   "outputs": [],
   "source": [
    "data_noID = data.drop('Client ID', axis = 1)"
   ]
  },
  {
   "cell_type": "code",
   "execution_count": 12,
   "metadata": {},
   "outputs": [
    {
     "data": {
      "text/plain": [
       "<Axes: >"
      ]
     },
     "execution_count": 12,
     "metadata": {},
     "output_type": "execute_result"
    },
    {
     "data": {
      "image/png": "[encoded data removed]",
      "text/plain": [
       "<Figure size 800x600 with 2 Axes>"
      ]
     },
     "metadata": {},
     "output_type": "display_data"
    }
   ],
   "source": [
    "## Check correlation\n",
    "plt.figure(figsize=(8,6))\n",
    "sns.heatmap(data_noID.corr(), annot=True, annot_kws={'size': 8})"
   ]
  },
  {
   "cell_type": "code",
   "execution_count": 13,
   "metadata": {},
   "outputs": [
    {
     "data": {
      "application/vnd.plotly.v1+json": {
       "config": {
        "plotlyServerURL": "https://plot.ly"
       },
       "data": [
        {
         "alignmentgroup": "True",
         "hovertemplate": "variable=count<br>Bounce Rate Segment=%{x}<br>Number of Clients=%{y}<extra></extra>",
         "legendgroup": "count",
         "marker": {
          "color": "#636efa",
          "pattern": {
           "shape": ""
          }
         },
         "name": "count",
         "offsetgroup": "count",
         "orientation": "v",
         "showlegend": true,
         "textposition": "auto",
         "type": "bar",
         "x": [
          "Low",
          "Medium",
          "High"
         ],
         "xaxis": "x",
         "y": [
          71,
          480,
          399
         ],
         "yaxis": "y"
        }
       ],
       "layout": {
        "barmode": "relative",
        "legend": {
         "title": {
          "text": "variable"
         },
         "tracegroupgap": 0
        },
        "template": {
         "data": {
          "bar": [
           {
            "error_x": {
             "color": "#2a3f5f"
            },
            "error_y": {
             "color": "#2a3f5f"
            },
            "marker": {
             "line": {
              "color": "white",
              "width": 0.5
             },
             "pattern": {
              "fillmode": "overlay",
              "size": 10,
              "solidity": 0.2
             }
            },
            "type": "bar"
           }
          ],
          "barpolar": [
           {
            "marker": {
             "line": {
              "color": "white",
              "width": 0.5
             },
             "pattern": {
              "fillmode": "overlay",
              "size": 10,
              "solidity": 0.2
             }
            },
            "type": "barpolar"
           }
          ],
          "carpet": [
           {
            "aaxis": {
             "endlinecolor": "#2a3f5f",
             "gridcolor": "#C8D4E3",
             "linecolor": "#C8D4E3",
             "minorgridcolor": "#C8D4E3",
             "startlinecolor": "#2a3f5f"
            },
            "baxis": {
             "endlinecolor": "#2a3f5f",
             "gridcolor": "#C8D4E3",
             "linecolor": "#C8D4E3",
             "minorgridcolor": "#C8D4E3",
             "startlinecolor": "#2a3f5f"
            },
            "type": "carpet"
           }
          ],
          "choropleth": [
           {
            "colorbar": {
             "outlinewidth": 0,
             "ticks": ""
            },
            "type": "choropleth"
           }
          ],
          "contour": [
           {
            "colorbar": {
             "outlinewidth": 0,
             "ticks": ""
            },
            "colorscale": [
             [
              0,
              "#0d0887"
             ],
             [
              0.1111111111111111,
              "#46039f"
             ],
             [
              0.2222222222222222,
              "#7201a8"
             ],
             [
              0.3333333333333333,
              "#9c179e"
             ],
             [
              0.4444444444444444,
              "#bd3786"
             ],
             [
              0.5555555555555556,
              "#d8576b"
             ],
             [
              0.6666666666666666,
              "#ed7953"
             ],
             [
              0.7777777777777778,
              "#fb9f3a"
             ],
             [
              0.8888888888888888,
              "#fdca26"
             ],
             [
              1,
              "#f0f921"
             ]
            ],
            "type": "contour"
           }
          ],
          "contourcarpet": [
           {
            "colorbar": {
             "outlinewidth": 0,
             "ticks": ""
            },
            "type": "contourcarpet"
           }
          ],
          "heatmap": [
           {
            "colorbar": {
             "outlinewidth": 0,
             "ticks": ""
            },
            "colorscale": [
             [
              0,
              "#0d0887"
             ],
             [
              0.1111111111111111,
              "#46039f"
             ],
             [
              0.2222222222222222,
              "#7201a8"
             ],
             [
              0.3333333333333333,
              "#9c179e"
             ],
             [
              0.4444444444444444,
              "#bd3786"
             ],
             [
              0.5555555555555556,
              "#d8576b"
             ],
             [
              0.6666666666666666,
              "#ed7953"
             ],
             [
              0.7777777777777778,
              "#fb9f3a"
             ],
             [
              0.8888888888888888,
              "#fdca26"
             ],
             [
              1,
              "#f0f921"
             ]
            ],
            "type": "heatmap"
           }
          ],
          "heatmapgl": [
           {
            "colorbar": {
             "outlinewidth": 0,
             "ticks": ""
            },
            "colorscale": [
             [
              0,
              "#0d0887"
             ],
             [
              0.1111111111111111,
              "#46039f"
             ],
             [
              0.2222222222222222,
              "#7201a8"
             ],
             [
              0.3333333333333333,
              "#9c179e"
             ],
             [
              0.4444444444444444,
              "#bd3786"
             ],
             [
              0.5555555555555556,
              "#d8576b"
             ],
             [
              0.6666666666666666,
              "#ed7953"
             ],
             [
              0.7777777777777778,
              "#fb9f3a"
             ],
             [
              0.8888888888888888,
              "#fdca26"
             ],
             [
              1,
              "#f0f921"
             ]
            ],
            "type": "heatmapgl"
           }
          ],
          "histogram": [
           {
            "marker": {
             "pattern": {
              "fillmode": "overlay",
              "size": 10,
              "solidity": 0.2
             }
            },
            "type": "histogram"
           }
          ],
          "histogram2d": [
           {
            "colorbar": {
             "outlinewidth": 0,
             "ticks": ""
            },
            "colorscale": [
             [
              0,
              "#0d0887"
             ],
             [
              0.1111111111111111,
              "#46039f"
             ],
             [
              0.2222222222222222,
              "#7201a8"
             ],
             [
              0.3333333333333333,
              "#9c179e"
             ],
             [
              0.4444444444444444,
              "#bd3786"
             ],
             [
              0.5555555555555556,
              "#d8576b"
             ],
             [
              0.6666666666666666,
              "#ed7953"
             ],
             [
              0.7777777777777778,
              "#fb9f3a"
             ],
             [
              0.8888888888888888,
              "#fdca26"
             ],
             [
              1,
              "#f0f921"
             ]
            ],
            "type": "histogram2d"
           }
          ],
          "histogram2dcontour": [
           {
            "colorbar": {
             "outlinewidth": 0,
             "ticks": ""
            },
            "colorscale": [
             [
              0,
              "#0d0887"
             ],
             [
              0.1111111111111111,
              "#46039f"
             ],
             [
              0.2222222222222222,
              "#7201a8"
             ],
             [
              0.3333333333333333,
              "#9c179e"
             ],
             [
              0.4444444444444444,
              "#bd3786"
             ],
             [
              0.5555555555555556,
              "#d8576b"
             ],
             [
              0.6666666666666666,
              "#ed7953"
             ],
             [
              0.7777777777777778,
              "#fb9f3a"
             ],
             [
              0.8888888888888888,
              "#fdca26"
             ],
             [
              1,
              "#f0f921"
             ]
            ],
            "type": "histogram2dcontour"
           }
          ],
          "mesh3d": [
           {
            "colorbar": {
             "outlinewidth": 0,
             "ticks": ""
            },
            "type": "mesh3d"
           }
          ],
          "parcoords": [
           {
            "line": {
             "colorbar": {
              "outlinewidth": 0,
              "ticks": ""
             }
            },
            "type": "parcoords"
           }
          ],
          "pie": [
           {
            "automargin": true,
            "type": "pie"
           }
          ],
          "scatter": [
           {
            "fillpattern": {
             "fillmode": "overlay",
             "size": 10,
             "solidity": 0.2
            },
            "type": "scatter"
           }
          ],
          "scatter3d": [
           {
            "line": {
             "colorbar": {
              "outlinewidth": 0,
              "ticks": ""
             }
            },
            "marker": {
             "colorbar": {
              "outlinewidth": 0,
              "ticks": ""
             }
            },
            "type": "scatter3d"
           }
          ],
          "scattercarpet": [
           {
            "marker": {
             "colorbar": {
              "outlinewidth": 0,
              "ticks": ""
             }
            },
            "type": "scattercarpet"
           }
          ],
          "scattergeo": [
           {
            "marker": {
             "colorbar": {
              "outlinewidth": 0,
              "ticks": ""
             }
            },
            "type": "scattergeo"
           }
          ],
          "scattergl": [
           {
            "marker": {
             "colorbar": {
              "outlinewidth": 0,
              "ticks": ""
             }
            },
            "type": "scattergl"
           }
          ],
          "scattermapbox": [
           {
            "marker": {
             "colorbar": {
              "outlinewidth": 0,
              "ticks": ""
             }
            },
            "type": "scattermapbox"
           }
          ],
          "scatterpolar": [
           {
            "marker": {
             "colorbar": {
              "outlinewidth": 0,
              "ticks": ""
             }
            },
            "type": "scatterpolar"
           }
          ],
          "scatterpolargl": [
           {
            "marker": {
             "colorbar": {
              "outlinewidth": 0,
              "ticks": ""
             }
            },
            "type": "scatterpolargl"
           }
          ],
          "scatterternary": [
           {
            "marker": {
             "colorbar": {
              "outlinewidth": 0,
              "ticks": ""
             }
            },
            "type": "scatterternary"
           }
          ],
          "surface": [
           {
            "colorbar": {
             "outlinewidth": 0,
             "ticks": ""
            },
            "colorscale": [
             [
              0,
              "#0d0887"
             ],
             [
              0.1111111111111111,
              "#46039f"
             ],
             [
              0.2222222222222222,
              "#7201a8"
             ],
             [
              0.3333333333333333,
              "#9c179e"
             ],
             [
              0.4444444444444444,
              "#bd3786"
             ],
             [
              0.5555555555555556,
              "#d8576b"
             ],
             [
              0.6666666666666666,
              "#ed7953"
             ],
             [
              0.7777777777777778,
              "#fb9f3a"
             ],
             [
              0.8888888888888888,
              "#fdca26"
             ],
             [
              1,
              "#f0f921"
             ]
            ],
            "type": "surface"
           }
          ],
          "table": [
           {
            "cells": {
             "fill": {
              "color": "#EBF0F8"
             },
             "line": {
              "color": "white"
             }
            },
            "header": {
             "fill": {
              "color": "#C8D4E3"
             },
             "line": {
              "color": "white"
             }
            },
            "type": "table"
           }
          ]
         },
         "layout": {
          "annotationdefaults": {
           "arrowcolor": "#2a3f5f",
           "arrowhead": 0,
           "arrowwidth": 1
          },
          "autotypenumbers": "strict",
          "coloraxis": {
           "colorbar": {
            "outlinewidth": 0,
            "ticks": ""
           }
          },
          "colorscale": {
           "diverging": [
            [
             0,
             "#8e0152"
            ],
            [
             0.1,
             "#c51b7d"
            ],
            [
             0.2,
             "#de77ae"
            ],
            [
             0.3,
             "#f1b6da"
            ],
            [
             0.4,
             "#fde0ef"
            ],
            [
             0.5,
             "#f7f7f7"
            ],
            [
             0.6,
             "#e6f5d0"
            ],
            [
             0.7,
             "#b8e186"
            ],
            [
             0.8,
             "#7fbc41"
            ],
            [
             0.9,
             "#4d9221"
            ],
            [
             1,
             "#276419"
            ]
           ],
           "sequential": [
            [
             0,
             "#0d0887"
            ],
            [
             0.1111111111111111,
             "#46039f"
            ],
            [
             0.2222222222222222,
             "#7201a8"
            ],
            [
             0.3333333333333333,
             "#9c179e"
            ],
            [
             0.4444444444444444,
             "#bd3786"
            ],
            [
             0.5555555555555556,
             "#d8576b"
            ],
            [
             0.6666666666666666,
             "#ed7953"
            ],
            [
             0.7777777777777778,
             "#fb9f3a"
            ],
            [
             0.8888888888888888,
             "#fdca26"
            ],
            [
             1,
             "#f0f921"
            ]
           ],
           "sequentialminus": [
            [
             0,
             "#0d0887"
            ],
            [
             0.1111111111111111,
             "#46039f"
            ],
            [
             0.2222222222222222,
             "#7201a8"
            ],
            [
             0.3333333333333333,
             "#9c179e"
            ],
            [
             0.4444444444444444,
             "#bd3786"
            ],
            [
             0.5555555555555556,
             "#d8576b"
            ],
            [
             0.6666666666666666,
             "#ed7953"
            ],
            [
             0.7777777777777778,
             "#fb9f3a"
            ],
            [
             0.8888888888888888,
             "#fdca26"
            ],
            [
             1,
             "#f0f921"
            ]
           ]
          },
          "colorway": [
           "#636efa",
           "#EF553B",
           "#00cc96",
           "#ab63fa",
           "#FFA15A",
           "#19d3f3",
           "#FF6692",
           "#B6E880",
           "#FF97FF",
           "#FECB52"
          ],
          "font": {
           "color": "#2a3f5f"
          },
          "geo": {
           "bgcolor": "white",
           "lakecolor": "white",
           "landcolor": "white",
           "showlakes": true,
           "showland": true,
           "subunitcolor": "#C8D4E3"
          },
          "hoverlabel": {
           "align": "left"
          },
          "hovermode": "closest",
          "mapbox": {
           "style": "light"
          },
          "paper_bgcolor": "white",
          "plot_bgcolor": "white",
          "polar": {
           "angularaxis": {
            "gridcolor": "#EBF0F8",
            "linecolor": "#EBF0F8",
            "ticks": ""
           },
           "bgcolor": "white",
           "radialaxis": {
            "gridcolor": "#EBF0F8",
            "linecolor": "#EBF0F8",
            "ticks": ""
           }
          },
          "scene": {
           "xaxis": {
            "backgroundcolor": "white",
            "gridcolor": "#DFE8F3",
            "gridwidth": 2,
            "linecolor": "#EBF0F8",
            "showbackground": true,
            "ticks": "",
            "zerolinecolor": "#EBF0F8"
           },
           "yaxis": {
            "backgroundcolor": "white",
            "gridcolor": "#DFE8F3",
            "gridwidth": 2,
            "linecolor": "#EBF0F8",
            "showbackground": true,
            "ticks": "",
            "zerolinecolor": "#EBF0F8"
           },
           "zaxis": {
            "backgroundcolor": "white",
            "gridcolor": "#DFE8F3",
            "gridwidth": 2,
            "linecolor": "#EBF0F8",
            "showbackground": true,
            "ticks": "",
            "zerolinecolor": "#EBF0F8"
           }
          },
          "shapedefaults": {
           "line": {
            "color": "#2a3f5f"
           }
          },
          "ternary": {
           "aaxis": {
            "gridcolor": "#DFE8F3",
            "linecolor": "#A2B1C6",
            "ticks": ""
           },
           "baxis": {
            "gridcolor": "#DFE8F3",
            "linecolor": "#A2B1C6",
            "ticks": ""
           },
           "bgcolor": "white",
           "caxis": {
            "gridcolor": "#DFE8F3",
            "linecolor": "#A2B1C6",
            "ticks": ""
           }
          },
          "title": {
           "x": 0.05
          },
          "xaxis": {
           "automargin": true,
           "gridcolor": "#EBF0F8",
           "linecolor": "#EBF0F8",
           "ticks": "",
           "title": {
            "standoff": 15
           },
           "zerolinecolor": "#EBF0F8",
           "zerolinewidth": 2
          },
          "yaxis": {
           "automargin": true,
           "gridcolor": "#EBF0F8",
           "linecolor": "#EBF0F8",
           "ticks": "",
           "title": {
            "standoff": 15
           },
           "zerolinecolor": "#EBF0F8",
           "zerolinewidth": 2
          }
         }
        },
        "title": {
         "text": "Segmentation of Clients based on Bounce Rates"
        },
        "xaxis": {
         "anchor": "y",
         "domain": [
          0,
          1
         ],
         "title": {
          "text": "Bounce Rate Segment"
         }
        },
        "yaxis": {
         "anchor": "x",
         "domain": [
          0,
          1
         ],
         "title": {
          "text": "Number of Clients"
         }
        }
       }
      }
     },
     "metadata": {},
     "output_type": "display_data"
    }
   ],
   "source": [
    "## Analysis User Engagement by analyzing the bounce rates of the users\n",
    "\n",
    "# Define the thresholds for high, medium, and low bounce rates\n",
    "high_bounce_rate_threshold = 70\n",
    "low_bounce_rate_threshold = 30\n",
    "\n",
    "# Segment the clients based on bounce rates\n",
    "data['Bounce Rate Segment'] = pd.cut(data['Bounce Rate'], \n",
    "                                     bins=[0, low_bounce_rate_threshold, \n",
    "                                           high_bounce_rate_threshold, 100],\n",
    "                                   labels=['Low', 'Medium', 'High'], right=False)\n",
    "\n",
    "# Count the number of clients in each segment\n",
    "segment_counts = data['Bounce Rate Segment'].value_counts().sort_index()\n",
    "\n",
    "# Visualize the segments\n",
    "segment_fig = px.bar(segment_counts, labels={'index': 'Bounce Rate Segment', \n",
    "                                             'value': 'Number of Clients'},\n",
    "                     title='Segmentation of Clients based on Bounce Rates')\n",
    "segment_fig.show()"
   ]
  },
  {
   "cell_type": "code",
   "execution_count": 14,
   "metadata": {},
   "outputs": [
    {
     "name": "stderr",
     "output_type": "stream",
     "text": [
      "C:\\Users\\kater\\AppData\\Local\\Temp\\ipykernel_8640\\913282189.py:4: FutureWarning:\n",
      "\n",
      "The default of observed=False is deprecated and will be changed to True in a future version of pandas. Pass observed=False to retain current behavior or observed=True to adopt the future default and silence this warning.\n",
      "\n"
     ]
    },
    {
     "data": {
      "application/vnd.plotly.v1+json": {
       "config": {
        "plotlyServerURL": "https://plot.ly"
       },
       "data": [
        {
         "marker": {
          "color": [
           "#2ECC40",
           "#FFDC00",
           "#FF4136"
          ]
         },
         "text": [
          9.05,
          5.04,
          1.43
         ],
         "textposition": "auto",
         "type": "bar",
         "x": [
          "Low",
          "Medium",
          "High"
         ],
         "y": [
          9.046478873239437,
          5.038854166666667,
          1.4334168755221386
         ]
        }
       ],
       "layout": {
        "template": {
         "data": {
          "bar": [
           {
            "error_x": {
             "color": "#2a3f5f"
            },
            "error_y": {
             "color": "#2a3f5f"
            },
            "marker": {
             "line": {
              "color": "white",
              "width": 0.5
             },
             "pattern": {
              "fillmode": "overlay",
              "size": 10,
              "solidity": 0.2
             }
            },
            "type": "bar"
           }
          ],
          "barpolar": [
           {
            "marker": {
             "line": {
              "color": "white",
              "width": 0.5
             },
             "pattern": {
              "fillmode": "overlay",
              "size": 10,
              "solidity": 0.2
             }
            },
            "type": "barpolar"
           }
          ],
          "carpet": [
           {
            "aaxis": {
             "endlinecolor": "#2a3f5f",
             "gridcolor": "#C8D4E3",
             "linecolor": "#C8D4E3",
             "minorgridcolor": "#C8D4E3",
             "startlinecolor": "#2a3f5f"
            },
            "baxis": {
             "endlinecolor": "#2a3f5f",
             "gridcolor": "#C8D4E3",
             "linecolor": "#C8D4E3",
             "minorgridcolor": "#C8D4E3",
             "startlinecolor": "#2a3f5f"
            },
            "type": "carpet"
           }
          ],
          "choropleth": [
           {
            "colorbar": {
             "outlinewidth": 0,
             "ticks": ""
            },
            "type": "choropleth"
           }
          ],
          "contour": [
           {
            "colorbar": {
             "outlinewidth": 0,
             "ticks": ""
            },
            "colorscale": [
             [
              0,
              "#0d0887"
             ],
             [
              0.1111111111111111,
              "#46039f"
             ],
             [
              0.2222222222222222,
              "#7201a8"
             ],
             [
              0.3333333333333333,
              "#9c179e"
             ],
             [
              0.4444444444444444,
              "#bd3786"
             ],
             [
              0.5555555555555556,
              "#d8576b"
             ],
             [
              0.6666666666666666,
              "#ed7953"
             ],
             [
              0.7777777777777778,
              "#fb9f3a"
             ],
             [
              0.8888888888888888,
              "#fdca26"
             ],
             [
              1,
              "#f0f921"
             ]
            ],
            "type": "contour"
           }
          ],
          "contourcarpet": [
           {
            "colorbar": {
             "outlinewidth": 0,
             "ticks": ""
            },
            "type": "contourcarpet"
           }
          ],
          "heatmap": [
           {
            "colorbar": {
             "outlinewidth": 0,
             "ticks": ""
            },
            "colorscale": [
             [
              0,
              "#0d0887"
             ],
             [
              0.1111111111111111,
              "#46039f"
             ],
             [
              0.2222222222222222,
              "#7201a8"
             ],
             [
              0.3333333333333333,
              "#9c179e"
             ],
             [
              0.4444444444444444,
              "#bd3786"
             ],
             [
              0.5555555555555556,
              "#d8576b"
             ],
             [
              0.6666666666666666,
              "#ed7953"
             ],
             [
              0.7777777777777778,
              "#fb9f3a"
             ],
             [
              0.8888888888888888,
              "#fdca26"
             ],
             [
              1,
              "#f0f921"
             ]
            ],
            "type": "heatmap"
           }
          ],
          "heatmapgl": [
           {
            "colorbar": {
             "outlinewidth": 0,
             "ticks": ""
            },
            "colorscale": [
             [
              0,
              "#0d0887"
             ],
             [
              0.1111111111111111,
              "#46039f"
             ],
             [
              0.2222222222222222,
              "#7201a8"
             ],
             [
              0.3333333333333333,
              "#9c179e"
             ],
             [
              0.4444444444444444,
              "#bd3786"
             ],
             [
              0.5555555555555556,
              "#d8576b"
             ],
             [
              0.6666666666666666,
              "#ed7953"
             ],
             [
              0.7777777777777778,
              "#fb9f3a"
             ],
             [
              0.8888888888888888,
              "#fdca26"
             ],
             [
              1,
              "#f0f921"
             ]
            ],
            "type": "heatmapgl"
           }
          ],
          "histogram": [
           {
            "marker": {
             "pattern": {
              "fillmode": "overlay",
              "size": 10,
              "solidity": 0.2
             }
            },
            "type": "histogram"
           }
          ],
          "histogram2d": [
           {
            "colorbar": {
             "outlinewidth": 0,
             "ticks": ""
            },
            "colorscale": [
             [
              0,
              "#0d0887"
             ],
             [
              0.1111111111111111,
              "#46039f"
             ],
             [
              0.2222222222222222,
              "#7201a8"
             ],
             [
              0.3333333333333333,
              "#9c179e"
             ],
             [
              0.4444444444444444,
              "#bd3786"
             ],
             [
              0.5555555555555556,
              "#d8576b"
             ],
             [
              0.6666666666666666,
              "#ed7953"
             ],
             [
              0.7777777777777778,
              "#fb9f3a"
             ],
             [
              0.8888888888888888,
              "#fdca26"
             ],
             [
              1,
              "#f0f921"
             ]
            ],
            "type": "histogram2d"
           }
          ],
          "histogram2dcontour": [
           {
            "colorbar": {
             "outlinewidth": 0,
             "ticks": ""
            },
            "colorscale": [
             [
              0,
              "#0d0887"
             ],
             [
              0.1111111111111111,
              "#46039f"
             ],
             [
              0.2222222222222222,
              "#7201a8"
             ],
             [
              0.3333333333333333,
              "#9c179e"
             ],
             [
              0.4444444444444444,
              "#bd3786"
             ],
             [
              0.5555555555555556,
              "#d8576b"
             ],
             [
              0.6666666666666666,
              "#ed7953"
             ],
             [
              0.7777777777777778,
              "#fb9f3a"
             ],
             [
              0.8888888888888888,
              "#fdca26"
             ],
             [
              1,
              "#f0f921"
             ]
            ],
            "type": "histogram2dcontour"
           }
          ],
          "mesh3d": [
           {
            "colorbar": {
             "outlinewidth": 0,
             "ticks": ""
            },
            "type": "mesh3d"
           }
          ],
          "parcoords": [
           {
            "line": {
             "colorbar": {
              "outlinewidth": 0,
              "ticks": ""
             }
            },
            "type": "parcoords"
           }
          ],
          "pie": [
           {
            "automargin": true,
            "type": "pie"
           }
          ],
          "scatter": [
           {
            "fillpattern": {
             "fillmode": "overlay",
             "size": 10,
             "solidity": 0.2
            },
            "type": "scatter"
           }
          ],
          "scatter3d": [
           {
            "line": {
             "colorbar": {
              "outlinewidth": 0,
              "ticks": ""
             }
            },
            "marker": {
             "colorbar": {
              "outlinewidth": 0,
              "ticks": ""
             }
            },
            "type": "scatter3d"
           }
          ],
          "scattercarpet": [
           {
            "marker": {
             "colorbar": {
              "outlinewidth": 0,
              "ticks": ""
             }
            },
            "type": "scattercarpet"
           }
          ],
          "scattergeo": [
           {
            "marker": {
             "colorbar": {
              "outlinewidth": 0,
              "ticks": ""
             }
            },
            "type": "scattergeo"
           }
          ],
          "scattergl": [
           {
            "marker": {
             "colorbar": {
              "outlinewidth": 0,
              "ticks": ""
             }
            },
            "type": "scattergl"
           }
          ],
          "scattermapbox": [
           {
            "marker": {
             "colorbar": {
              "outlinewidth": 0,
              "ticks": ""
             }
            },
            "type": "scattermapbox"
           }
          ],
          "scatterpolar": [
           {
            "marker": {
             "colorbar": {
              "outlinewidth": 0,
              "ticks": ""
             }
            },
            "type": "scatterpolar"
           }
          ],
          "scatterpolargl": [
           {
            "marker": {
             "colorbar": {
              "outlinewidth": 0,
              "ticks": ""
             }
            },
            "type": "scatterpolargl"
           }
          ],
          "scatterternary": [
           {
            "marker": {
             "colorbar": {
              "outlinewidth": 0,
              "ticks": ""
             }
            },
            "type": "scatterternary"
           }
          ],
          "surface": [
           {
            "colorbar": {
             "outlinewidth": 0,
             "ticks": ""
            },
            "colorscale": [
             [
              0,
              "#0d0887"
             ],
             [
              0.1111111111111111,
              "#46039f"
             ],
             [
              0.2222222222222222,
              "#7201a8"
             ],
             [
              0.3333333333333333,
              "#9c179e"
             ],
             [
              0.4444444444444444,
              "#bd3786"
             ],
             [
              0.5555555555555556,
              "#d8576b"
             ],
             [
              0.6666666666666666,
              "#ed7953"
             ],
             [
              0.7777777777777778,
              "#fb9f3a"
             ],
             [
              0.8888888888888888,
              "#fdca26"
             ],
             [
              1,
              "#f0f921"
             ]
            ],
            "type": "surface"
           }
          ],
          "table": [
           {
            "cells": {
             "fill": {
              "color": "#EBF0F8"
             },
             "line": {
              "color": "white"
             }
            },
            "header": {
             "fill": {
              "color": "#C8D4E3"
             },
             "line": {
              "color": "white"
             }
            },
            "type": "table"
           }
          ]
         },
         "layout": {
          "annotationdefaults": {
           "arrowcolor": "#2a3f5f",
           "arrowhead": 0,
           "arrowwidth": 1
          },
          "autotypenumbers": "strict",
          "coloraxis": {
           "colorbar": {
            "outlinewidth": 0,
            "ticks": ""
           }
          },
          "colorscale": {
           "diverging": [
            [
             0,
             "#8e0152"
            ],
            [
             0.1,
             "#c51b7d"
            ],
            [
             0.2,
             "#de77ae"
            ],
            [
             0.3,
             "#f1b6da"
            ],
            [
             0.4,
             "#fde0ef"
            ],
            [
             0.5,
             "#f7f7f7"
            ],
            [
             0.6,
             "#e6f5d0"
            ],
            [
             0.7,
             "#b8e186"
            ],
            [
             0.8,
             "#7fbc41"
            ],
            [
             0.9,
             "#4d9221"
            ],
            [
             1,
             "#276419"
            ]
           ],
           "sequential": [
            [
             0,
             "#0d0887"
            ],
            [
             0.1111111111111111,
             "#46039f"
            ],
            [
             0.2222222222222222,
             "#7201a8"
            ],
            [
             0.3333333333333333,
             "#9c179e"
            ],
            [
             0.4444444444444444,
             "#bd3786"
            ],
            [
             0.5555555555555556,
             "#d8576b"
            ],
            [
             0.6666666666666666,
             "#ed7953"
            ],
            [
             0.7777777777777778,
             "#fb9f3a"
            ],
            [
             0.8888888888888888,
             "#fdca26"
            ],
            [
             1,
             "#f0f921"
            ]
           ],
           "sequentialminus": [
            [
             0,
             "#0d0887"
            ],
            [
             0.1111111111111111,
             "#46039f"
            ],
            [
             0.2222222222222222,
             "#7201a8"
            ],
            [
             0.3333333333333333,
             "#9c179e"
            ],
            [
             0.4444444444444444,
             "#bd3786"
            ],
            [
             0.5555555555555556,
             "#d8576b"
            ],
            [
             0.6666666666666666,
             "#ed7953"
            ],
            [
             0.7777777777777778,
             "#fb9f3a"
            ],
            [
             0.8888888888888888,
             "#fdca26"
            ],
            [
             1,
             "#f0f921"
            ]
           ]
          },
          "colorway": [
           "#636efa",
           "#EF553B",
           "#00cc96",
           "#ab63fa",
           "#FFA15A",
           "#19d3f3",
           "#FF6692",
           "#B6E880",
           "#FF97FF",
           "#FECB52"
          ],
          "font": {
           "color": "#2a3f5f"
          },
          "geo": {
           "bgcolor": "white",
           "lakecolor": "white",
           "landcolor": "white",
           "showlakes": true,
           "showland": true,
           "subunitcolor": "#C8D4E3"
          },
          "hoverlabel": {
           "align": "left"
          },
          "hovermode": "closest",
          "mapbox": {
           "style": "light"
          },
          "paper_bgcolor": "white",
          "plot_bgcolor": "white",
          "polar": {
           "angularaxis": {
            "gridcolor": "#EBF0F8",
            "linecolor": "#EBF0F8",
            "ticks": ""
           },
           "bgcolor": "white",
           "radialaxis": {
            "gridcolor": "#EBF0F8",
            "linecolor": "#EBF0F8",
            "ticks": ""
           }
          },
          "scene": {
           "xaxis": {
            "backgroundcolor": "white",
            "gridcolor": "#DFE8F3",
            "gridwidth": 2,
            "linecolor": "#EBF0F8",
            "showbackground": true,
            "ticks": "",
            "zerolinecolor": "#EBF0F8"
           },
           "yaxis": {
            "backgroundcolor": "white",
            "gridcolor": "#DFE8F3",
            "gridwidth": 2,
            "linecolor": "#EBF0F8",
            "showbackground": true,
            "ticks": "",
            "zerolinecolor": "#EBF0F8"
           },
           "zaxis": {
            "backgroundcolor": "white",
            "gridcolor": "#DFE8F3",
            "gridwidth": 2,
            "linecolor": "#EBF0F8",
            "showbackground": true,
            "ticks": "",
            "zerolinecolor": "#EBF0F8"
           }
          },
          "shapedefaults": {
           "line": {
            "color": "#2a3f5f"
           }
          },
          "ternary": {
           "aaxis": {
            "gridcolor": "#DFE8F3",
            "linecolor": "#A2B1C6",
            "ticks": ""
           },
           "baxis": {
            "gridcolor": "#DFE8F3",
            "linecolor": "#A2B1C6",
            "ticks": ""
           },
           "bgcolor": "white",
           "caxis": {
            "gridcolor": "#DFE8F3",
            "linecolor": "#A2B1C6",
            "ticks": ""
           }
          },
          "title": {
           "x": 0.05
          },
          "xaxis": {
           "automargin": true,
           "gridcolor": "#EBF0F8",
           "linecolor": "#EBF0F8",
           "ticks": "",
           "title": {
            "standoff": 15
           },
           "zerolinecolor": "#EBF0F8",
           "zerolinewidth": 2
          },
          "yaxis": {
           "automargin": true,
           "gridcolor": "#EBF0F8",
           "linecolor": "#EBF0F8",
           "ticks": "",
           "title": {
            "standoff": 15
           },
           "zerolinecolor": "#EBF0F8",
           "zerolinewidth": 2
          }
         }
        },
        "title": {
         "text": "Comparison of User Engagement by Bounce Rate Segment"
        },
        "xaxis": {
         "title": {
          "text": "Bounce Rate Segment"
         }
        },
        "yaxis": {
         "title": {
          "text": "Average Session Duration (minutes)"
         }
        }
       }
      }
     },
     "metadata": {},
     "output_type": "display_data"
    }
   ],
   "source": [
    "## The average session duration of the users in each bounce rate segment\n",
    "\n",
    "# Calculate the average session duration for each segment\n",
    "segment_avg_duration = data.groupby('Bounce Rate Segment')['Avg. Session Duration'].mean()\n",
    "\n",
    "# Create a bar chart to compare user engagement\n",
    "engagement_fig = go.Figure(data=go.Bar(\n",
    "    x=segment_avg_duration.index,\n",
    "    y=segment_avg_duration,\n",
    "    text=segment_avg_duration.round(2),\n",
    "    textposition='auto',\n",
    "    marker=dict(color=['#2ECC40', '#FFDC00', '#FF4136'])\n",
    "))\n",
    "\n",
    "engagement_fig.update_layout(\n",
    "    title='Comparison of User Engagement by Bounce Rate Segment',\n",
    "    xaxis=dict(title='Bounce Rate Segment'),\n",
    "    yaxis=dict(title='Average Session Duration (minutes)'),\n",
    ")\n",
    "\n",
    "engagement_fig.show()"
   ]
  },
  {
   "cell_type": "code",
   "execution_count": 15,
   "metadata": {},
   "outputs": [
    {
     "data": {
      "text/html": [
       "<div>\n",
       "<style scoped>\n",
       "    .dataframe tbody tr th:only-of-type {\n",
       "        vertical-align: middle;\n",
       "    }\n",
       "\n",
       "    .dataframe tbody tr th {\n",
       "        vertical-align: top;\n",
       "    }\n",
       "\n",
       "    .dataframe thead th {\n",
       "        text-align: right;\n",
       "    }\n",
       "</style>\n",
       "<table border=\"1\" class=\"dataframe\">\n",
       "  <thead>\n",
       "    <tr style=\"text-align: right;\">\n",
       "      <th></th>\n",
       "      <th>Client ID</th>\n",
       "      <th>Sessions</th>\n",
       "      <th>Avg. Session Duration</th>\n",
       "      <th>Bounce Rate</th>\n",
       "      <th>Bounce Rate Segment</th>\n",
       "      <th>Total Session Duration</th>\n",
       "    </tr>\n",
       "  </thead>\n",
       "  <tbody>\n",
       "    <tr>\n",
       "      <th>20</th>\n",
       "      <td>1.884620e+09</td>\n",
       "      <td>93</td>\n",
       "      <td>30.666667</td>\n",
       "      <td>16.13</td>\n",
       "      <td>Low</td>\n",
       "      <td>2852.000000</td>\n",
       "    </tr>\n",
       "    <tr>\n",
       "      <th>54</th>\n",
       "      <td>1.041722e+09</td>\n",
       "      <td>67</td>\n",
       "      <td>20.500000</td>\n",
       "      <td>22.39</td>\n",
       "      <td>Low</td>\n",
       "      <td>1373.500000</td>\n",
       "    </tr>\n",
       "    <tr>\n",
       "      <th>262</th>\n",
       "      <td>8.756557e+08</td>\n",
       "      <td>34</td>\n",
       "      <td>29.966667</td>\n",
       "      <td>26.47</td>\n",
       "      <td>Low</td>\n",
       "      <td>1018.866667</td>\n",
       "    </tr>\n",
       "    <tr>\n",
       "      <th>10</th>\n",
       "      <td>1.461865e+09</td>\n",
       "      <td>117</td>\n",
       "      <td>8.450000</td>\n",
       "      <td>48.72</td>\n",
       "      <td>Medium</td>\n",
       "      <td>988.650000</td>\n",
       "    </tr>\n",
       "    <tr>\n",
       "      <th>173</th>\n",
       "      <td>1.849182e+05</td>\n",
       "      <td>40</td>\n",
       "      <td>24.416667</td>\n",
       "      <td>17.50</td>\n",
       "      <td>Low</td>\n",
       "      <td>976.666667</td>\n",
       "    </tr>\n",
       "    <tr>\n",
       "      <th>15</th>\n",
       "      <td>1.049234e+09</td>\n",
       "      <td>99</td>\n",
       "      <td>9.716667</td>\n",
       "      <td>34.34</td>\n",
       "      <td>Medium</td>\n",
       "      <td>961.950000</td>\n",
       "    </tr>\n",
       "    <tr>\n",
       "      <th>310</th>\n",
       "      <td>2.026953e+09</td>\n",
       "      <td>31</td>\n",
       "      <td>22.116667</td>\n",
       "      <td>35.48</td>\n",
       "      <td>Medium</td>\n",
       "      <td>685.616667</td>\n",
       "    </tr>\n",
       "    <tr>\n",
       "      <th>24</th>\n",
       "      <td>1.903206e+09</td>\n",
       "      <td>90</td>\n",
       "      <td>7.016667</td>\n",
       "      <td>36.67</td>\n",
       "      <td>Medium</td>\n",
       "      <td>631.500000</td>\n",
       "    </tr>\n",
       "    <tr>\n",
       "      <th>211</th>\n",
       "      <td>2.054569e+09</td>\n",
       "      <td>37</td>\n",
       "      <td>16.250000</td>\n",
       "      <td>35.14</td>\n",
       "      <td>Medium</td>\n",
       "      <td>601.250000</td>\n",
       "    </tr>\n",
       "    <tr>\n",
       "      <th>402</th>\n",
       "      <td>6.220935e+08</td>\n",
       "      <td>28</td>\n",
       "      <td>21.300000</td>\n",
       "      <td>39.29</td>\n",
       "      <td>Medium</td>\n",
       "      <td>596.400000</td>\n",
       "    </tr>\n",
       "  </tbody>\n",
       "</table>\n",
       "</div>"
      ],
      "text/plain": [
       "        Client ID  Sessions  Avg. Session Duration  Bounce Rate  \\\n",
       "20   1.884620e+09        93              30.666667        16.13   \n",
       "54   1.041722e+09        67              20.500000        22.39   \n",
       "262  8.756557e+08        34              29.966667        26.47   \n",
       "10   1.461865e+09       117               8.450000        48.72   \n",
       "173  1.849182e+05        40              24.416667        17.50   \n",
       "15   1.049234e+09        99               9.716667        34.34   \n",
       "310  2.026953e+09        31              22.116667        35.48   \n",
       "24   1.903206e+09        90               7.016667        36.67   \n",
       "211  2.054569e+09        37              16.250000        35.14   \n",
       "402  6.220935e+08        28              21.300000        39.29   \n",
       "\n",
       "    Bounce Rate Segment  Total Session Duration  \n",
       "20                  Low             2852.000000  \n",
       "54                  Low             1373.500000  \n",
       "262                 Low             1018.866667  \n",
       "10               Medium              988.650000  \n",
       "173                 Low              976.666667  \n",
       "15               Medium              961.950000  \n",
       "310              Medium              685.616667  \n",
       "24               Medium              631.500000  \n",
       "211              Medium              601.250000  \n",
       "402              Medium              596.400000  "
      ]
     },
     "execution_count": 15,
     "metadata": {},
     "output_type": "execute_result"
    }
   ],
   "source": [
    "## The top 10 loyal users according to the number of sessions and average session duration\n",
    "\n",
    "# Calculate the total session duration for each client\n",
    "data['Total Session Duration'] = data['Sessions'] * data['Avg. Session Duration']\n",
    "\n",
    "# Sort the DataFrame by the total session duration in descending order\n",
    "df_sorted = data.sort_values('Total Session Duration', ascending=False)\n",
    "\n",
    "# the top 10 most loyal users\n",
    "df_sorted.head(10)"
   ]
  },
  {
   "cell_type": "code",
   "execution_count": 16,
   "metadata": {},
   "outputs": [
    {
     "data": {
      "application/vnd.plotly.v1+json": {
       "config": {
        "plotlyServerURL": "https://plot.ly"
       },
       "data": [
        {
         "hovertemplate": "Bounce Rate=%{x}<br>Avg. Session Duration=%{y}<extra></extra>",
         "legendgroup": "",
         "marker": {
          "color": "#636efa",
          "symbol": "circle"
         },
         "mode": "markers",
         "name": "",
         "orientation": "v",
         "showlegend": false,
         "type": "scatter",
         "x": [
          87.19,
          29.62,
          99.16,
          25.66,
          46.76,
          87.98,
          97.21,
          91.81,
          98.56,
          96.12,
          48.72,
          81.58,
          39.62,
          97.17,
          23.81,
          34.34,
          51.55,
          55.21,
          41.05,
          80.65,
          16.13,
          91.3,
          45.05,
          37.78,
          36.67,
          86.05,
          51.76,
          84.52,
          89.02,
          4.88,
          96.25,
          71.25,
          69.62,
          71.79,
          52.56,
          82.05,
          96.1,
          80.52,
          73.68,
          92.11,
          9.33,
          68.92,
          53.42,
          91.55,
          62.86,
          97.14,
          82.61,
          44.93,
          95.65,
          69.57,
          78.26,
          72.06,
          91.18,
          63.24,
          22.39,
          83.58,
          93.94,
          46.97,
          69.23,
          63.08,
          25,
          10.94,
          88.89,
          54.84,
          98.39,
          98.39,
          49.18,
          32.79,
          96.72,
          40.98,
          63.93,
          95.08,
          75,
          88.33,
          76.67,
          91.53,
          94.92,
          40.68,
          31.03,
          84.48,
          96.49,
          10.53,
          89.47,
          92.98,
          46.43,
          60.71,
          26.79,
          72.73,
          67.27,
          38.18,
          16.67,
          48.15,
          46.3,
          72.22,
          88.89,
          56.6,
          88.68,
          22.64,
          94.23,
          50,
          53.85,
          92.31,
          42.31,
          28.85,
          40.38,
          72.55,
          80.39,
          58.82,
          72.55,
          92.16,
          37.25,
          60.78,
          82,
          94,
          91.84,
          71.43,
          38.78,
          85.42,
          56.25,
          91.67,
          58.33,
          54.17,
          54.17,
          64.58,
          87.5,
          81.25,
          89.58,
          70.21,
          63.83,
          100,
          44.68,
          40.43,
          51.06,
          70.21,
          46.81,
          78.72,
          72.34,
          67.39,
          63.04,
          60.87,
          54.35,
          34.78,
          36.96,
          42.22,
          91.11,
          25,
          59.09,
          97.73,
          68.18,
          16.28,
          44.19,
          74.42,
          95.35,
          37.21,
          34.88,
          41.86,
          90.7,
          95.24,
          45.24,
          85.71,
          78.57,
          52.38,
          71.43,
          31.71,
          53.66,
          56.1,
          68.29,
          73.17,
          43.9,
          39.02,
          40,
          70,
          92.5,
          17.5,
          50,
          25,
          95,
          17.95,
          94.87,
          69.23,
          41.03,
          66.67,
          97.44,
          33.33,
          44.74,
          73.68,
          97.37,
          50,
          92.11,
          94.74,
          42.11,
          34.21,
          100,
          57.89,
          44.74,
          86.84,
          92.11,
          21.05,
          97.37,
          54.05,
          91.89,
          67.57,
          97.3,
          51.35,
          83.78,
          86.49,
          97.3,
          67.57,
          45.95,
          94.59,
          51.35,
          35.14,
          70.27,
          70.27,
          91.89,
          78.38,
          94.59,
          67.57,
          38.89,
          50,
          94.44,
          69.44,
          88.89,
          50,
          36.11,
          88.89,
          38.89,
          52.78,
          66.67,
          55.56,
          44.44,
          91.43,
          91.43,
          48.57,
          100,
          68.57,
          80,
          57.14,
          77.14,
          60,
          80,
          62.86,
          60,
          51.43,
          97.14,
          71.43,
          100,
          45.71,
          80,
          65.71,
          62.86,
          82.86,
          82.35,
          61.76,
          100,
          29.41,
          82.35,
          58.82,
          44.12,
          91.18,
          47.06,
          44.12,
          26.47,
          100,
          69.7,
          69.7,
          63.64,
          60.61,
          81.82,
          33.33,
          69.7,
          60.61,
          57.58,
          57.58,
          57.58,
          15.15,
          24.24,
          36.36,
          45.45,
          93.94,
          90.62,
          78.12,
          31.25,
          62.5,
          56.25,
          84.38,
          18.75,
          50,
          96.88,
          93.75,
          56.25,
          18.75,
          71.88,
          71.88,
          12.5,
          53.12,
          56.25,
          45.16,
          41.94,
          77.42,
          80.65,
          58.06,
          67.74,
          41.94,
          67.74,
          67.74,
          64.52,
          100,
          58.06,
          67.74,
          35.48,
          87.1,
          96.77,
          32.26,
          96.77,
          83.33,
          93.33,
          66.67,
          96.67,
          53.33,
          66.67,
          90,
          80,
          76.67,
          73.33,
          90,
          46.67,
          70,
          96.67,
          80,
          53.33,
          30,
          76.67,
          63.33,
          30,
          46.67,
          93.1,
          79.31,
          68.97,
          51.72,
          27.59,
          48.28,
          82.76,
          68.97,
          41.38,
          96.55,
          68.97,
          65.52,
          34.48,
          100,
          86.21,
          62.07,
          41.38,
          75.86,
          72.41,
          13.79,
          37.93,
          75.86,
          58.62,
          79.31,
          72.41,
          48.28,
          93.1,
          75.86,
          44.83,
          86.21,
          34.48,
          67.86,
          60.71,
          60.71,
          57.14,
          75,
          75,
          46.43,
          42.86,
          60.71,
          78.57,
          82.14,
          96.43,
          35.71,
          53.57,
          67.86,
          50,
          32.14,
          96.43,
          21.43,
          82.14,
          53.57,
          64.29,
          53.57,
          78.57,
          67.86,
          28.57,
          50,
          100,
          71.43,
          85.71,
          78.57,
          71.43,
          57.14,
          96.43,
          75,
          39.29,
          71.43,
          89.29,
          82.14,
          85.71,
          92.59,
          66.67,
          81.48,
          51.85,
          51.85,
          48.15,
          37.04,
          77.78,
          40.74,
          81.48,
          37.04,
          55.56,
          55.56,
          77.78,
          66.67,
          62.96,
          96.3,
          74.07,
          40.74,
          85.19,
          81.48,
          96.3,
          77.78,
          92.59,
          85.19,
          81.48,
          51.85,
          92.59,
          59.26,
          81.48,
          96.3,
          85.19,
          62.96,
          70.37,
          88.89,
          74.07,
          81.48,
          62.96,
          40.74,
          59.26,
          66.67,
          33.33,
          33.33,
          38.46,
          92.31,
          57.69,
          42.31,
          80.77,
          92.31,
          84.62,
          65.38,
          30.77,
          84.62,
          88.46,
          15.38,
          19.23,
          26.92,
          76.92,
          88.46,
          61.54,
          100,
          73.08,
          96.15,
          50,
          96.15,
          96.15,
          38.46,
          53.85,
          100,
          69.23,
          42.31,
          76.92,
          92.31,
          30.77,
          92.31,
          84.62,
          53.85,
          38.46,
          69.23,
          76.92,
          42.31,
          26.92,
          23.08,
          50,
          92.31,
          88.46,
          76.92,
          26.92,
          57.69,
          65.38,
          34.62,
          61.54,
          68,
          88,
          100,
          64,
          40,
          56,
          72,
          76,
          44,
          68,
          88,
          56,
          80,
          28,
          32,
          88,
          80,
          92,
          52,
          76,
          44,
          64,
          92,
          96,
          28,
          16,
          40,
          60,
          44,
          36,
          56,
          40,
          76,
          48,
          32,
          92,
          44,
          52,
          56,
          44,
          100,
          33.33,
          70.83,
          29.17,
          87.5,
          75,
          29.17,
          37.5,
          79.17,
          91.67,
          79.17,
          66.67,
          41.67,
          54.17,
          20.83,
          100,
          91.67,
          66.67,
          95.83,
          100,
          75,
          83.33,
          100,
          100,
          70.83,
          20.83,
          45.83,
          62.5,
          58.33,
          54.17,
          70.83,
          69.57,
          21.74,
          56.52,
          47.83,
          56.52,
          78.26,
          100,
          86.96,
          43.48,
          78.26,
          60.87,
          100,
          43.48,
          73.91,
          69.57,
          78.26,
          56.52,
          73.91,
          95.65,
          100,
          65.22,
          82.61,
          43.48,
          47.83,
          39.13,
          60.87,
          17.39,
          86.96,
          65.22,
          60.87,
          100,
          95.65,
          56.52,
          56.52,
          100,
          91.3,
          34.78,
          91.3,
          60.87,
          52.17,
          86.96,
          100,
          39.13,
          73.91,
          56.52,
          34.78,
          47.83,
          26.09,
          60.87,
          91.3,
          52.17,
          69.57,
          69.57,
          95.65,
          81.82,
          54.55,
          86.36,
          68.18,
          90.91,
          81.82,
          50,
          100,
          63.64,
          59.09,
          68.18,
          100,
          100,
          63.64,
          100,
          90.91,
          40.91,
          63.64,
          59.09,
          86.36,
          22.73,
          54.55,
          72.73,
          31.82,
          68.18,
          59.09,
          63.64,
          54.55,
          45.45,
          59.09,
          100,
          40.91,
          54.55,
          68.18,
          36.36,
          100,
          95.45,
          63.64,
          86.36,
          72.73,
          54.55,
          36.36,
          95.45,
          45.45,
          45.45,
          81.82,
          45.45,
          36.36,
          86.36,
          54.55,
          63.64,
          86.36,
          63.64,
          45.45,
          86.36,
          54.55,
          81.82,
          36.36,
          36.36,
          36.36,
          38.1,
          71.43,
          33.33,
          71.43,
          57.14,
          33.33,
          52.38,
          100,
          66.67,
          76.19,
          80.95,
          28.57,
          38.1,
          76.19,
          28.57,
          76.19,
          47.62,
          66.67,
          95.24,
          71.43,
          47.62,
          19.05,
          57.14,
          90.48,
          95.24,
          95.24,
          80.95,
          47.62,
          100,
          71.43,
          19.05,
          85.71,
          23.81,
          85.71,
          90.48,
          47.62,
          42.86,
          71.43,
          95.24,
          42.86,
          52.38,
          33.33,
          61.9,
          66.67,
          76.19,
          61.9,
          90.48,
          100,
          19.05,
          80.95,
          71.43,
          52.38,
          95.24,
          57.14,
          80.95,
          61.9,
          95.24,
          61.9,
          90.48,
          80.95,
          38.1,
          71.43,
          52.38,
          61.9,
          95.24,
          52.38,
          75,
          15,
          20,
          65,
          90,
          55,
          45,
          75,
          60,
          80,
          85,
          85,
          90,
          20,
          80,
          30,
          55,
          75,
          30,
          85,
          55,
          100,
          95,
          95,
          95,
          65,
          60,
          85,
          55,
          100,
          60,
          70,
          65,
          100,
          95,
          95,
          30,
          50,
          70,
          80,
          75,
          90,
          70,
          100,
          100,
          60,
          65,
          95,
          35,
          85,
          65,
          90,
          85,
          20,
          45,
          55,
          35,
          55,
          65,
          52.63,
          15.79,
          100,
          100,
          94.74,
          42.11,
          94.74,
          63.16,
          57.89,
          78.95,
          31.58,
          47.37,
          73.68,
          84.21,
          63.16,
          89.47,
          89.47,
          52.63,
          31.58,
          78.95,
          36.84,
          78.95,
          94.74,
          94.74,
          52.63,
          21.05,
          36.84,
          68.42,
          52.63,
          42.11,
          26.32,
          78.95,
          78.95,
          63.16,
          52.63,
          84.21,
          94.74,
          63.16,
          42.11,
          100,
          47.37,
          78.95,
          94.74,
          26.32,
          47.37,
          47.37,
          63.16,
          47.37,
          47.37,
          100,
          26.32,
          100,
          78.95,
          78.95,
          68.42,
          42.11,
          68.42,
          47.37,
          100,
          84.21,
          68.42,
          31.58,
          42.11,
          42.11,
          94.74,
          84.21,
          47.37,
          42.11,
          52.63,
          52.63,
          47.37,
          57.89,
          68.42,
          68.42,
          63.16,
          36.84,
          73.68,
          83.33,
          38.89,
          94.44,
          83.33,
          50,
          100,
          55.56,
          88.89,
          94.44,
          44.44,
          77.78,
          55.56,
          77.78,
          22.22,
          38.89,
          55.56,
          61.11,
          27.78,
          22.22,
          66.67,
          83.33,
          83.33,
          100,
          72.22,
          77.78,
          55.56,
          88.89,
          100,
          72.22,
          94.44,
          83.33,
          55.56,
          38.89,
          66.67,
          44.44,
          77.78,
          88.89,
          94.44,
          77.78,
          66.67,
          38.89,
          94.44,
          100,
          94.44,
          83.33,
          33.33,
          83.33,
          61.11,
          27.78,
          61.11,
          27.78,
          88.89,
          38.89,
          66.67,
          44.44,
          50,
          55.56,
          94.44,
          33.33,
          83.33,
          38.89,
          94.44,
          50,
          50,
          50,
          94.44,
          61.11,
          88.89,
          77.78,
          66.67,
          88.89,
          94.44,
          94.44,
          55.56,
          33.33,
          27.78,
          88.89,
          88.89,
          66.67,
          94.44,
          33.33,
          61.11,
          61.11,
          55.56,
          50,
          55.56,
          77.78,
          88.89,
          38.89,
          77.78,
          83.33,
          94.44,
          100,
          61.11,
          55.56,
          83.33,
          33.33,
          88.89,
          72.22,
          83.33,
          72.22,
          22.22,
          50,
          94.44,
          35.29,
          100,
          17.65,
          35.29,
          41.18,
          47.06,
          94.12,
          88.24,
          64.71
         ],
         "xaxis": "x",
         "y": [
          1.5833333333333333,
          1.0666666666666667,
          0.03333333333333333,
          2.3666666666666667,
          1.3833333333333333,
          1.7333333333333334,
          0.55,
          1.3666666666666667,
          0.2,
          0.4,
          8.45,
          2.7666666666666666,
          0.75,
          0.016666666666666666,
          3.2333333333333334,
          9.716666666666667,
          2.0833333333333335,
          3.933333333333333,
          4.666666666666667,
          2.5833333333333335,
          30.666666666666668,
          0.4,
          3.8833333333333333,
          4.533333333333333,
          7.016666666666667,
          0.4166666666666667,
          3.25,
          1.6666666666666667,
          1.9333333333333333,
          4.766666666666667,
          0.03333333333333333,
          3.8666666666666667,
          0.38333333333333336,
          0.6,
          2.7,
          3.466666666666667,
          0.7,
          3.0166666666666666,
          4.616666666666666,
          0.45,
          1.1166666666666667,
          1.4166666666666667,
          1.5166666666666666,
          1.2833333333333334,
          1.4666666666666666,
          0.38333333333333336,
          2.6166666666666667,
          1.5166666666666666,
          0.6666666666666666,
          4.233333333333333,
          2.1,
          1.7333333333333334,
          0.7333333333333333,
          2.533333333333333,
          20.5,
          3.0166666666666666,
          1.2833333333333334,
          8.55,
          0.5333333333333333,
          4.066666666666666,
          6.15,
          5.566666666666666,
          1.1166666666666667,
          9.483333333333333,
          0.16666666666666666,
          0.13333333333333333,
          3.4,
          4.683333333333334,
          0.7833333333333333,
          2.3333333333333335,
          4.966666666666667,
          0.6,
          3.1166666666666667,
          1.7,
          3.75,
          1.4833333333333334,
          0.7166666666666667,
          1.3,
          2.7666666666666666,
          2.2333333333333334,
          0.4,
          3.783333333333333,
          0.7666666666666667,
          0.38333333333333336,
          8.766666666666667,
          1.3666666666666667,
          6.933333333333334,
          1.5,
          4.616666666666666,
          6.116666666666666,
          1.25,
          8.55,
          6.5,
          1.3,
          1.45,
          0.75,
          0.5833333333333334,
          8.383333333333333,
          1.1333333333333333,
          0.85,
          4.116666666666666,
          0.18333333333333332,
          8.683333333333334,
          5.45,
          2.4,
          0.18333333333333332,
          1.5,
          1.65,
          4.6,
          1.5666666666666667,
          1.6833333333333333,
          4.016666666666667,
          2.316666666666667,
          0.5666666666666667,
          0.9166666666666666,
          3.0166666666666666,
          11.433333333333334,
          1.5333333333333334,
          5.416666666666667,
          0.9,
          3.75,
          5.366666666666666,
          2.533333333333333,
          1.2833333333333334,
          1.65,
          2.8333333333333335,
          1.4,
          1.0333333333333334,
          1.8333333333333333,
          0,
          4.033333333333333,
          9.133333333333333,
          5.633333333333334,
          5.166666666666667,
          4.883333333333334,
          2.2,
          4.166666666666667,
          4.683333333333334,
          2.2666666666666666,
          6.633333333333334,
          6.783333333333333,
          4,
          3.5,
          2.65,
          1.45,
          7.666666666666667,
          1.3166666666666667,
          0.21666666666666667,
          5.8,
          8.116666666666667,
          0.95,
          3.5166666666666666,
          1.05,
          0.75,
          2.5166666666666666,
          11.516666666666667,
          0.31666666666666665,
          0.45,
          9.8,
          1.4166666666666667,
          3.3833333333333333,
          4.766666666666667,
          0.9833333333333333,
          0.31666666666666665,
          2.716666666666667,
          7.05,
          4.65,
          3.1666666666666665,
          2.5833333333333335,
          2.35,
          9.433333333333334,
          6.05,
          0.8333333333333334,
          24.416666666666668,
          4.6,
          7.383333333333334,
          0.3,
          12.816666666666666,
          1.0166666666666666,
          5.666666666666667,
          4.733333333333333,
          2.4166666666666665,
          0.016666666666666666,
          10.55,
          5.683333333333334,
          2.6666666666666665,
          0.4,
          1.2833333333333334,
          0.4,
          0.3333333333333333,
          11.5,
          7.116666666666666,
          0,
          4.683333333333334,
          6.966666666666667,
          2.1166666666666667,
          1.55,
          0.48333333333333334,
          0.05,
          3.9,
          1.1833333333333333,
          3.3,
          0.7333333333333333,
          0.75,
          2.966666666666667,
          1.3666666666666667,
          0.9666666666666667,
          1.1666666666666667,
          7.833333333333333,
          0.35,
          3.9166666666666665,
          16.25,
          2.9,
          4.55,
          0.06666666666666667,
          3.8833333333333333,
          0.6333333333333333,
          0.21666666666666667,
          2.966666666666667,
          5.316666666666666,
          0.6166666666666667,
          4.733333333333333,
          2.3333333333333335,
          5.483333333333333,
          9.216666666666667,
          0.4,
          9.1,
          6.983333333333333,
          3.3833333333333333,
          6.283333333333333,
          9.833333333333334,
          1.3833333333333333,
          0.5,
          5.233333333333333,
          0,
          2.466666666666667,
          2.433333333333333,
          2.7333333333333334,
          4.5,
          4.133333333333334,
          1.4666666666666666,
          2.4166666666666665,
          3.3833333333333333,
          8.683333333333334,
          0.43333333333333335,
          5.133333333333334,
          0,
          5.75,
          0.016666666666666666,
          2.033333333333333,
          12.05,
          0.5333333333333333,
          1.1833333333333333,
          5.55,
          0,
          4.416666666666667,
          0.65,
          6.633333333333334,
          10.6,
          2.85,
          8.816666666666666,
          1.15,
          29.966666666666665,
          0,
          3.0833333333333335,
          2.3666666666666667,
          6.833333333333333,
          7.616666666666666,
          0.5,
          5.6,
          1.9666666666666666,
          4.216666666666667,
          9.616666666666667,
          4.7,
          6.75,
          16.366666666666667,
          8.283333333333333,
          5.966666666666667,
          7.383333333333334,
          0.11666666666666667,
          0.11666666666666667,
          2.566666666666667,
          6.55,
          4.816666666666666,
          3,
          1.8166666666666667,
          3.3666666666666667,
          1.0166666666666666,
          0.016666666666666666,
          0.7,
          11.333333333333334,
          4.466666666666667,
          4.2,
          5.416666666666667,
          8.916666666666666,
          4.8,
          3.6,
          4.716666666666667,
          4.183333333333334,
          0.6666666666666666,
          1.8166666666666667,
          3.2666666666666666,
          2.816666666666667,
          3.3333333333333335,
          0.6,
          4.133333333333334,
          5.783333333333333,
          0,
          3.15,
          4.1,
          22.116666666666667,
          0.7,
          0.05,
          8.833333333333334,
          0.15,
          2.5833333333333335,
          0.43333333333333335,
          1.7166666666666666,
          0.016666666666666666,
          2.433333333333333,
          5.316666666666666,
          0.36666666666666664,
          1.5833333333333333,
          0.6333333333333333,
          2.216666666666667,
          0.16666666666666666,
          9.6,
          2.4166666666666665,
          0.8666666666666667,
          3.5833333333333335,
          5.666666666666667,
          9.966666666666667,
          1.6666666666666667,
          3.4833333333333334,
          5.016666666666667,
          3.85,
          0.11666666666666667,
          1.2333333333333334,
          1.2833333333333334,
          11.35,
          9.716666666666667,
          11.916666666666666,
          0.5666666666666667,
          1.2833333333333334,
          9.466666666666667,
          0.8666666666666667,
          3.15,
          2.0166666666666666,
          1.6666666666666667,
          0,
          0.5333333333333333,
          6.25,
          9.55,
          3.2333333333333334,
          1.95,
          12.483333333333333,
          7.1,
          3.2,
          3.816666666666667,
          1.4,
          1.2166666666666666,
          8.116666666666667,
          0.05,
          2.0833333333333335,
          2.3,
          1.8833333333333333,
          9.05,
          4.75,
          6.9,
          5.483333333333333,
          2.3666666666666667,
          3.2,
          1.25,
          1.1,
          1.1833333333333333,
          0.8833333333333333,
          1.65,
          2.783333333333333,
          0.016666666666666666,
          17.983333333333334,
          1.7666666666666666,
          0.85,
          6.816666666666666,
          2.55,
          0,
          1.55,
          1.3333333333333333,
          4.733333333333333,
          2.6,
          6.833333333333333,
          2.7333333333333334,
          2.533333333333333,
          8.933333333333334,
          7.033333333333333,
          0,
          3.3833333333333333,
          1.6833333333333333,
          2.283333333333333,
          3.3,
          4.95,
          0.016666666666666666,
          0.08333333333333333,
          21.3,
          2.716666666666667,
          0.7,
          2.55,
          0.21666666666666667,
          1.2,
          3.3,
          2.716666666666667,
          3.85,
          9.933333333333334,
          0.016666666666666666,
          8.433333333333334,
          2.8833333333333333,
          11.633333333333333,
          0.7333333333333333,
          3.1166666666666667,
          2.7333333333333334,
          3.6,
          4.283333333333333,
          3.183333333333333,
          1.6333333333333333,
          0,
          2.7333333333333334,
          5.8,
          1.8,
          2.6166666666666667,
          1.1,
          1.6,
          0.5833333333333334,
          0.016666666666666666,
          1.3166666666666667,
          1.5333333333333334,
          0.26666666666666666,
          7.75,
          0.6,
          0.016666666666666666,
          1.3,
          6.666666666666667,
          1.15,
          1.8,
          1.8666666666666667,
          4.133333333333334,
          1.5666666666666667,
          5.633333333333334,
          2.1333333333333333,
          2.1,
          21.133333333333333,
          3.3833333333333333,
          1.7333333333333334,
          1.3,
          3.9833333333333334,
          1.3333333333333333,
          3.283333333333333,
          1.2666666666666666,
          3.3333333333333335,
          2.05,
          12.283333333333333,
          1.75,
          1.15,
          1.9666666666666666,
          13.583333333333334,
          3.2333333333333334,
          0.85,
          0.9333333333333333,
          2.683333333333333,
          0,
          0.9,
          0.016666666666666666,
          3.433333333333333,
          1.15,
          1.0666666666666667,
          11.85,
          3.466666666666667,
          0,
          8.533333333333333,
          8.783333333333333,
          2.15,
          0.016666666666666666,
          11.583333333333334,
          2.3,
          0.8333333333333334,
          8.083333333333334,
          12.383333333333333,
          6.533333333333333,
          2.716666666666667,
          3.1,
          17.6,
          20.3,
          0.8333333333333334,
          0.06666666666666667,
          0.11666666666666667,
          0.23333333333333334,
          13.733333333333333,
          4.283333333333333,
          3.216666666666667,
          4.133333333333334,
          1.7833333333333334,
          0.7666666666666667,
          0.7333333333333333,
          0,
          2.4,
          2.566666666666667,
          2.6166666666666667,
          3.716666666666667,
          1.1333333333333333,
          1.2,
          1.25,
          1.35,
          6,
          0.3,
          12.966666666666667,
          5.683333333333334,
          0.13333333333333333,
          2.2666666666666666,
          0.03333333333333333,
          3.683333333333333,
          4.55,
          3.283333333333333,
          2.0833333333333335,
          0.16666666666666666,
          0.36666666666666664,
          11.1,
          5.833333333333333,
          3.8,
          4.616666666666666,
          10,
          3.283333333333333,
          0.08333333333333333,
          1.65,
          2.4166666666666665,
          10.416666666666666,
          4.166666666666667,
          0.6666666666666666,
          13.85,
          2.5166666666666666,
          3.4833333333333334,
          7.933333333333334,
          0,
          5.983333333333333,
          3.183333333333333,
          8.283333333333333,
          3.6666666666666665,
          2.8833333333333333,
          8.883333333333333,
          3.433333333333333,
          3.25,
          0.8833333333333333,
          1.15,
          0.016666666666666666,
          2.1666666666666665,
          1.8333333333333333,
          20.466666666666665,
          0,
          0.25,
          3.45,
          1.3333333333333333,
          0,
          4.183333333333334,
          1.05,
          0,
          0,
          3.1666666666666665,
          2.9,
          1.4666666666666666,
          2.2666666666666666,
          3.8,
          1.4,
          3.316666666666667,
          3.1333333333333333,
          1.3166666666666667,
          2.966666666666667,
          5.983333333333333,
          3.533333333333333,
          0.9166666666666666,
          0,
          0.2,
          5.333333333333333,
          0.016666666666666666,
          2.4166666666666665,
          0,
          3,
          5.7,
          1.2,
          1.45,
          3.966666666666667,
          1.2333333333333334,
          0.016666666666666666,
          0,
          4.5,
          3.5833333333333335,
          3.0166666666666666,
          0.25,
          4.616666666666666,
          4.2,
          16.533333333333335,
          0.016666666666666666,
          8.766666666666667,
          8.416666666666666,
          0,
          0.08333333333333333,
          0.7833333333333333,
          3.5166666666666666,
          0,
          0.03333333333333333,
          0.55,
          0.06666666666666667,
          1.3,
          2.75,
          1.1166666666666667,
          0,
          2.5166666666666666,
          1.7166666666666666,
          5.3,
          11.783333333333333,
          6.366666666666666,
          1.8333333333333333,
          1.1166666666666667,
          0.016666666666666666,
          4.816666666666666,
          1.3666666666666667,
          9.866666666666667,
          2.033333333333333,
          1.15,
          2.75,
          1.4166666666666667,
          2.066666666666667,
          0.06666666666666667,
          4.416666666666667,
          8.666666666666666,
          0,
          3.933333333333333,
          2.1166666666666667,
          1.85,
          0,
          0,
          3.2,
          0,
          0.06666666666666667,
          12.933333333333334,
          8.65,
          3.35,
          0.85,
          9.083333333333334,
          2.8833333333333333,
          5.2,
          12.55,
          1.6166666666666667,
          8.5,
          2.3333333333333335,
          3.933333333333333,
          5.35,
          4.716666666666667,
          0,
          22.933333333333334,
          3.9166666666666665,
          6.766666666666667,
          5.766666666666667,
          0,
          0.35,
          0.6666666666666666,
          1.7333333333333334,
          2.5,
          3.9833333333333334,
          6.466666666666667,
          0.016666666666666666,
          0.8666666666666667,
          12.466666666666667,
          2.566666666666667,
          12.083333333333334,
          3.8,
          1.3833333333333333,
          5.15,
          0.4666666666666667,
          0.55,
          0.55,
          5.066666666666666,
          0.11666666666666667,
          5.533333333333333,
          2.5833333333333335,
          11.916666666666666,
          10.166666666666666,
          7.5,
          3.6,
          1.7666666666666666,
          5.233333333333333,
          4.1,
          6.016666666666667,
          10.3,
          2.4,
          0,
          8.216666666666667,
          0.85,
          2.533333333333333,
          10.216666666666667,
          12.683333333333334,
          0.26666666666666666,
          4.716666666666667,
          1.3833333333333333,
          8.366666666666667,
          1.2333333333333334,
          0.016666666666666666,
          3.1333333333333333,
          5.95,
          3.3333333333333335,
          0.48333333333333334,
          1.0833333333333333,
          1.1666666666666667,
          0.25,
          0.9833333333333333,
          2.966666666666667,
          0,
          0.43333333333333335,
          16.35,
          1.5,
          9.833333333333334,
          1.3166666666666667,
          0.7833333333333333,
          1.5666666666666667,
          5.183333333333334,
          0.36666666666666664,
          0.016666666666666666,
          15.1,
          5.466666666666667,
          9.4,
          2.2333333333333334,
          0.6166666666666667,
          2.65,
          4.816666666666666,
          0.2833333333333333,
          0,
          19.316666666666666,
          1.0333333333333334,
          0.5833333333333334,
          4.1,
          1.8,
          3.5166666666666666,
          0.7333333333333333,
          1.5166666666666666,
          1.1166666666666667,
          2.35,
          0.4666666666666667,
          3.15,
          3.783333333333333,
          1.5166666666666666,
          4.8,
          3.933333333333333,
          0.08333333333333333,
          3.816666666666667,
          1.0666666666666667,
          1.3,
          2.1666666666666665,
          2.783333333333333,
          0.11666666666666667,
          0.9166666666666666,
          2.3666666666666667,
          0.9,
          3.35,
          1.3166666666666667,
          0.25,
          2.05,
          0.9833333333333333,
          8.516666666666667,
          3.566666666666667,
          5.266666666666667,
          3.1333333333333333,
          1.5166666666666666,
          11.666666666666666,
          2.316666666666667,
          2.75,
          0,
          0.016666666666666666,
          0.31666666666666665,
          0.016666666666666666,
          6.6,
          7.333333333333333,
          0.15,
          0.5,
          0,
          2.5833333333333335,
          3.25,
          1.2333333333333334,
          0,
          0.016666666666666666,
          1.3666666666666667,
          15.983333333333333,
          4.033333333333333,
          2.5166666666666666,
          0.15,
          1.4833333333333334,
          1.4666666666666666,
          1.95,
          0,
          0,
          1.1666666666666667,
          5.1,
          1.3,
          21.45,
          2.9833333333333334,
          1.6,
          2.05,
          2.2333333333333334,
          2.85,
          10.666666666666666,
          3.4833333333333334,
          13.133333333333333,
          8.366666666666667,
          2.55,
          4.583333333333333,
          7.416666666666667,
          0,
          0,
          1.4666666666666666,
          2.8333333333333335,
          0.21666666666666667,
          3.3,
          6.083333333333333,
          1.8,
          6.4,
          3.6666666666666665,
          1.6166666666666667,
          1.4666666666666666,
          0.5666666666666667,
          0.1,
          0.2,
          0.48333333333333334,
          16.466666666666665,
          0.7166666666666667,
          4.8,
          2.316666666666667,
          1.05,
          0.03333333333333333,
          1.6333333333333333,
          15.55,
          5.35,
          2,
          7.933333333333334,
          5.316666666666666,
          11.25,
          1.4666666666666666,
          0.26666666666666666,
          2.466666666666667,
          3.4,
          3.35,
          1.4833333333333334,
          2.3833333333333333,
          11.716666666666667,
          0,
          4.9,
          2.8833333333333333,
          0.3,
          5.3,
          4.933333333333334,
          14.066666666666666,
          3.9166666666666665,
          2.8,
          10.533333333333333,
          0,
          11.65,
          0,
          5.633333333333334,
          1.6166666666666667,
          6.583333333333333,
          4.95,
          2.533333333333333,
          0.4666666666666667,
          0,
          0.7166666666666667,
          6.733333333333333,
          10.633333333333333,
          12.066666666666666,
          1.3833333333333333,
          0.08333333333333333,
          1.7166666666666666,
          8.416666666666666,
          4.166666666666667,
          7.566666666666666,
          1.3333333333333333,
          4.316666666666666,
          5.216666666666667,
          3.05,
          7,
          1.9333333333333333,
          4.066666666666666,
          2.45,
          0.16666666666666666,
          0.9833333333333333,
          0.016666666666666666,
          0.8666666666666667,
          4.433333333333334,
          0,
          1.5166666666666666,
          1.3166666666666667,
          1.25,
          4.133333333333334,
          1.85,
          7.3,
          1.0666666666666667,
          15.65,
          6.266666666666667,
          3.3,
          2.533333333333333,
          6.433333333333334,
          3.3666666666666667,
          3.216666666666667,
          0.95,
          1.0166666666666666,
          0,
          0.2833333333333333,
          1.45,
          4.65,
          1.0166666666666666,
          0,
          4.116666666666666,
          0.5333333333333333,
          0.2,
          1.25,
          10,
          8.633333333333333,
          3.7333333333333334,
          3.933333333333333,
          2.3666666666666667,
          0.16666666666666666,
          0.9833333333333333,
          3.05,
          11.3,
          0.08333333333333333,
          0,
          1.05,
          1.6833333333333333,
          1.7666666666666666,
          3.7666666666666666,
          3.933333333333333,
          19.166666666666668,
          4.183333333333334,
          8.266666666666667,
          2.6,
          7.033333333333333,
          3.05,
          16.033333333333335,
          9.766666666666667,
          2.85,
          0.31666666666666665,
          6.933333333333334,
          1.9333333333333333,
          9.716666666666667,
          0.43333333333333335,
          10.766666666666667,
          5.433333333333334,
          0.5666666666666667,
          0.05,
          6.3,
          0.3,
          1.5,
          3.55,
          0.8666666666666667,
          0.08333333333333333,
          0.5333333333333333,
          5.316666666666666,
          4.45,
          5.4,
          0.23333333333333334,
          0.3333333333333333,
          1.6333333333333333,
          0.23333333333333334,
          5.3,
          0.7166666666666667,
          8.066666666666666,
          5.083333333333333,
          9.95,
          4.366666666666666,
          0.3333333333333333,
          0.15,
          3.533333333333333,
          3.9,
          2.75,
          0.75,
          0,
          0.7833333333333333,
          4.283333333333333,
          1.4666666666666666,
          6.416666666666667,
          0.6666666666666666,
          2.1166666666666667,
          0.5166666666666667,
          0.5333333333333333,
          8.816666666666666,
          2.3333333333333335,
          0.06666666666666667,
          5.433333333333334,
          0,
          5.233333333333333,
          7.5,
          7.733333333333333,
          5.616666666666666,
          0.2,
          1.2166666666666666,
          2.566666666666667
         ],
         "yaxis": "y"
        },
        {
         "hovertemplate": "<b>OLS trendline</b><br>Avg. Session Duration = -0.1137 * Bounce Rate + 11.062<br>R<sup>2</sup>=0.418783<br><br>Bounce Rate=%{x}<br>Avg. Session Duration=%{y} <b>(trend)</b><extra></extra>",
         "legendgroup": "",
         "marker": {
          "color": "#636efa",
          "symbol": "circle"
         },
         "mode": "lines",
         "name": "",
         "showlegend": false,
         "type": "scatter",
         "x": [
          4.88,
          9.33,
          10.53,
          10.94,
          12.5,
          13.79,
          15,
          15.15,
          15.38,
          15.79,
          16,
          16.13,
          16.28,
          16.67,
          17.39,
          17.5,
          17.65,
          17.95,
          18.75,
          18.75,
          19.05,
          19.05,
          19.05,
          19.23,
          20,
          20,
          20,
          20.83,
          20.83,
          21.05,
          21.05,
          21.43,
          21.74,
          22.22,
          22.22,
          22.22,
          22.39,
          22.64,
          22.73,
          23.08,
          23.81,
          23.81,
          24.24,
          25,
          25,
          25,
          25.66,
          26.09,
          26.32,
          26.32,
          26.32,
          26.47,
          26.79,
          26.92,
          26.92,
          26.92,
          27.59,
          27.78,
          27.78,
          27.78,
          27.78,
          28,
          28,
          28.57,
          28.57,
          28.57,
          28.85,
          29.17,
          29.17,
          29.41,
          29.62,
          30,
          30,
          30,
          30,
          30,
          30.77,
          30.77,
          31.03,
          31.25,
          31.58,
          31.58,
          31.58,
          31.71,
          31.82,
          32,
          32,
          32.14,
          32.26,
          32.79,
          33.33,
          33.33,
          33.33,
          33.33,
          33.33,
          33.33,
          33.33,
          33.33,
          33.33,
          33.33,
          33.33,
          33.33,
          33.33,
          34.21,
          34.34,
          34.48,
          34.48,
          34.62,
          34.78,
          34.78,
          34.78,
          34.88,
          35,
          35,
          35.14,
          35.29,
          35.29,
          35.48,
          35.71,
          36,
          36.11,
          36.36,
          36.36,
          36.36,
          36.36,
          36.36,
          36.36,
          36.36,
          36.67,
          36.84,
          36.84,
          36.84,
          36.96,
          37.04,
          37.04,
          37.21,
          37.25,
          37.5,
          37.78,
          37.93,
          38.1,
          38.1,
          38.1,
          38.18,
          38.46,
          38.46,
          38.46,
          38.78,
          38.89,
          38.89,
          38.89,
          38.89,
          38.89,
          38.89,
          38.89,
          38.89,
          38.89,
          39.02,
          39.13,
          39.13,
          39.29,
          39.62,
          40,
          40,
          40,
          40,
          40.38,
          40.43,
          40.68,
          40.74,
          40.74,
          40.74,
          40.91,
          40.91,
          40.98,
          41.03,
          41.05,
          41.18,
          41.38,
          41.38,
          41.67,
          41.86,
          41.94,
          41.94,
          42.11,
          42.11,
          42.11,
          42.11,
          42.11,
          42.11,
          42.11,
          42.11,
          42.22,
          42.31,
          42.31,
          42.31,
          42.31,
          42.86,
          42.86,
          42.86,
          43.48,
          43.48,
          43.48,
          43.9,
          44,
          44,
          44,
          44,
          44,
          44.12,
          44.12,
          44.19,
          44.44,
          44.44,
          44.44,
          44.44,
          44.68,
          44.74,
          44.74,
          44.83,
          44.93,
          45,
          45,
          45.05,
          45.16,
          45.24,
          45.45,
          45.45,
          45.45,
          45.45,
          45.45,
          45.45,
          45.71,
          45.83,
          45.95,
          46.3,
          46.43,
          46.43,
          46.67,
          46.67,
          46.76,
          46.81,
          46.97,
          47.06,
          47.06,
          47.37,
          47.37,
          47.37,
          47.37,
          47.37,
          47.37,
          47.37,
          47.37,
          47.37,
          47.62,
          47.62,
          47.62,
          47.62,
          47.83,
          47.83,
          47.83,
          48,
          48.15,
          48.15,
          48.28,
          48.28,
          48.57,
          48.72,
          49.18,
          50,
          50,
          50,
          50,
          50,
          50,
          50,
          50,
          50,
          50,
          50,
          50,
          50,
          50,
          50,
          50,
          50,
          50,
          50,
          51.06,
          51.35,
          51.35,
          51.43,
          51.55,
          51.72,
          51.76,
          51.85,
          51.85,
          51.85,
          52,
          52,
          52.17,
          52.17,
          52.38,
          52.38,
          52.38,
          52.38,
          52.38,
          52.38,
          52.56,
          52.63,
          52.63,
          52.63,
          52.63,
          52.63,
          52.63,
          52.63,
          52.78,
          53.12,
          53.33,
          53.33,
          53.42,
          53.57,
          53.57,
          53.57,
          53.66,
          53.85,
          53.85,
          53.85,
          54.05,
          54.17,
          54.17,
          54.17,
          54.17,
          54.35,
          54.55,
          54.55,
          54.55,
          54.55,
          54.55,
          54.55,
          54.55,
          54.84,
          55,
          55,
          55,
          55,
          55,
          55,
          55.21,
          55.56,
          55.56,
          55.56,
          55.56,
          55.56,
          55.56,
          55.56,
          55.56,
          55.56,
          55.56,
          55.56,
          55.56,
          55.56,
          56,
          56,
          56,
          56,
          56.1,
          56.25,
          56.25,
          56.25,
          56.25,
          56.52,
          56.52,
          56.52,
          56.52,
          56.52,
          56.52,
          56.6,
          57.14,
          57.14,
          57.14,
          57.14,
          57.14,
          57.14,
          57.58,
          57.58,
          57.58,
          57.69,
          57.69,
          57.89,
          57.89,
          57.89,
          58.06,
          58.06,
          58.33,
          58.33,
          58.62,
          58.82,
          58.82,
          59.09,
          59.09,
          59.09,
          59.09,
          59.09,
          59.26,
          59.26,
          60,
          60,
          60,
          60,
          60,
          60,
          60,
          60.61,
          60.61,
          60.71,
          60.71,
          60.71,
          60.71,
          60.78,
          60.87,
          60.87,
          60.87,
          60.87,
          60.87,
          60.87,
          61.11,
          61.11,
          61.11,
          61.11,
          61.11,
          61.11,
          61.11,
          61.54,
          61.54,
          61.76,
          61.9,
          61.9,
          61.9,
          61.9,
          61.9,
          62.07,
          62.5,
          62.5,
          62.86,
          62.86,
          62.86,
          62.96,
          62.96,
          62.96,
          63.04,
          63.08,
          63.16,
          63.16,
          63.16,
          63.16,
          63.16,
          63.16,
          63.24,
          63.33,
          63.64,
          63.64,
          63.64,
          63.64,
          63.64,
          63.64,
          63.64,
          63.64,
          63.83,
          63.93,
          64,
          64,
          64.29,
          64.52,
          64.58,
          64.71,
          65,
          65,
          65,
          65,
          65,
          65,
          65.22,
          65.22,
          65.38,
          65.38,
          65.52,
          65.71,
          66.67,
          66.67,
          66.67,
          66.67,
          66.67,
          66.67,
          66.67,
          66.67,
          66.67,
          66.67,
          66.67,
          66.67,
          66.67,
          66.67,
          66.67,
          66.67,
          66.67,
          66.67,
          67.27,
          67.39,
          67.57,
          67.57,
          67.57,
          67.74,
          67.74,
          67.74,
          67.74,
          67.86,
          67.86,
          67.86,
          68,
          68,
          68.18,
          68.18,
          68.18,
          68.18,
          68.18,
          68.29,
          68.42,
          68.42,
          68.42,
          68.42,
          68.42,
          68.42,
          68.57,
          68.92,
          68.97,
          68.97,
          68.97,
          69.23,
          69.23,
          69.23,
          69.23,
          69.44,
          69.57,
          69.57,
          69.57,
          69.57,
          69.57,
          69.62,
          69.7,
          69.7,
          69.7,
          70,
          70,
          70,
          70,
          70,
          70.21,
          70.21,
          70.27,
          70.27,
          70.37,
          70.83,
          70.83,
          70.83,
          71.25,
          71.43,
          71.43,
          71.43,
          71.43,
          71.43,
          71.43,
          71.43,
          71.43,
          71.43,
          71.43,
          71.43,
          71.43,
          71.43,
          71.79,
          71.88,
          71.88,
          72,
          72.06,
          72.22,
          72.22,
          72.22,
          72.22,
          72.22,
          72.34,
          72.41,
          72.41,
          72.55,
          72.55,
          72.73,
          72.73,
          72.73,
          73.08,
          73.17,
          73.33,
          73.68,
          73.68,
          73.68,
          73.68,
          73.91,
          73.91,
          73.91,
          74.07,
          74.07,
          74.42,
          75,
          75,
          75,
          75,
          75,
          75,
          75,
          75,
          75,
          75,
          75.86,
          75.86,
          75.86,
          76,
          76,
          76,
          76.19,
          76.19,
          76.19,
          76.19,
          76.67,
          76.67,
          76.67,
          76.92,
          76.92,
          76.92,
          76.92,
          77.14,
          77.42,
          77.78,
          77.78,
          77.78,
          77.78,
          77.78,
          77.78,
          77.78,
          77.78,
          77.78,
          77.78,
          77.78,
          78.12,
          78.26,
          78.26,
          78.26,
          78.26,
          78.38,
          78.57,
          78.57,
          78.57,
          78.57,
          78.72,
          78.95,
          78.95,
          78.95,
          78.95,
          78.95,
          78.95,
          78.95,
          78.95,
          79.17,
          79.17,
          79.31,
          79.31,
          80,
          80,
          80,
          80,
          80,
          80,
          80,
          80,
          80,
          80,
          80.39,
          80.52,
          80.65,
          80.65,
          80.77,
          80.95,
          80.95,
          80.95,
          80.95,
          80.95,
          81.25,
          81.48,
          81.48,
          81.48,
          81.48,
          81.48,
          81.48,
          81.58,
          81.82,
          81.82,
          81.82,
          81.82,
          81.82,
          82,
          82.05,
          82.14,
          82.14,
          82.14,
          82.35,
          82.35,
          82.61,
          82.61,
          82.76,
          82.86,
          83.33,
          83.33,
          83.33,
          83.33,
          83.33,
          83.33,
          83.33,
          83.33,
          83.33,
          83.33,
          83.33,
          83.33,
          83.33,
          83.58,
          83.78,
          84.21,
          84.21,
          84.21,
          84.21,
          84.38,
          84.48,
          84.52,
          84.62,
          84.62,
          84.62,
          85,
          85,
          85,
          85,
          85,
          85,
          85.19,
          85.19,
          85.19,
          85.42,
          85.71,
          85.71,
          85.71,
          85.71,
          85.71,
          86.05,
          86.21,
          86.21,
          86.36,
          86.36,
          86.36,
          86.36,
          86.36,
          86.36,
          86.49,
          86.84,
          86.96,
          86.96,
          86.96,
          87.1,
          87.19,
          87.5,
          87.5,
          87.98,
          88,
          88,
          88,
          88.24,
          88.33,
          88.46,
          88.46,
          88.46,
          88.68,
          88.89,
          88.89,
          88.89,
          88.89,
          88.89,
          88.89,
          88.89,
          88.89,
          88.89,
          88.89,
          88.89,
          88.89,
          88.89,
          88.89,
          88.89,
          89.02,
          89.29,
          89.47,
          89.47,
          89.47,
          89.58,
          90,
          90,
          90,
          90,
          90,
          90,
          90.48,
          90.48,
          90.48,
          90.48,
          90.62,
          90.7,
          90.91,
          90.91,
          91.11,
          91.18,
          91.18,
          91.3,
          91.3,
          91.3,
          91.3,
          91.43,
          91.43,
          91.53,
          91.55,
          91.67,
          91.67,
          91.67,
          91.81,
          91.84,
          91.89,
          91.89,
          92,
          92,
          92,
          92.11,
          92.11,
          92.11,
          92.16,
          92.31,
          92.31,
          92.31,
          92.31,
          92.31,
          92.31,
          92.5,
          92.59,
          92.59,
          92.59,
          92.98,
          93.1,
          93.1,
          93.33,
          93.75,
          93.94,
          93.94,
          94,
          94.12,
          94.23,
          94.44,
          94.44,
          94.44,
          94.44,
          94.44,
          94.44,
          94.44,
          94.44,
          94.44,
          94.44,
          94.44,
          94.44,
          94.44,
          94.44,
          94.44,
          94.59,
          94.59,
          94.74,
          94.74,
          94.74,
          94.74,
          94.74,
          94.74,
          94.74,
          94.74,
          94.87,
          94.92,
          95,
          95,
          95,
          95,
          95,
          95,
          95,
          95.08,
          95.24,
          95.24,
          95.24,
          95.24,
          95.24,
          95.24,
          95.24,
          95.24,
          95.35,
          95.45,
          95.45,
          95.65,
          95.65,
          95.65,
          95.65,
          95.83,
          96,
          96.1,
          96.12,
          96.15,
          96.15,
          96.15,
          96.25,
          96.3,
          96.3,
          96.3,
          96.43,
          96.43,
          96.43,
          96.49,
          96.55,
          96.67,
          96.67,
          96.72,
          96.77,
          96.77,
          96.88,
          97.14,
          97.14,
          97.17,
          97.21,
          97.3,
          97.3,
          97.37,
          97.37,
          97.44,
          97.73,
          98.39,
          98.39,
          98.56,
          99.16,
          100,
          100,
          100,
          100,
          100,
          100,
          100,
          100,
          100,
          100,
          100,
          100,
          100,
          100,
          100,
          100,
          100,
          100,
          100,
          100,
          100,
          100,
          100,
          100,
          100,
          100,
          100,
          100,
          100,
          100,
          100,
          100,
          100,
          100,
          100,
          100,
          100,
          100,
          100,
          100,
          100,
          100,
          100,
          100,
          100,
          100,
          100,
          100,
          100
         ],
         "xaxis": "x",
         "y": [
          10.507171615536798,
          10.001207302886769,
          9.864767488239568,
          9.818150551568442,
          9.640778792527083,
          9.494105991781344,
          9.356529178678752,
          9.339474201847851,
          9.313323237373805,
          9.266706300702678,
          9.242829333139419,
          9.228048353219306,
          9.210993376388405,
          9.166650436628064,
          9.084786547839746,
          9.072279564830419,
          9.055224587999518,
          9.021114634337719,
          8.930154757906253,
          8.930154757906253,
          8.896044804244454,
          8.896044804244454,
          8.896044804244454,
          8.875578832047374,
          8.788029950982088,
          8.788029950982088,
          8.788029950982088,
          8.69365907918444,
          8.69365907918444,
          8.668645113165788,
          8.668645113165788,
          8.62543917186084,
          8.590192219743649,
          8.535616293884768,
          8.535616293884768,
          8.535616293884768,
          8.516287320143082,
          8.487862358758248,
          8.477629372659708,
          8.437834426720942,
          8.35483353947723,
          8.35483353947723,
          8.305942605895316,
          8.219530723285423,
          8.219530723285423,
          8.219530723285423,
          8.144488825229462,
          8.09559789164755,
          8.069446927173503,
          8.069446927173503,
          8.069446927173503,
          8.052391950342603,
          8.016007999770018,
          8.001227019849903,
          8.001227019849903,
          8.001227019849903,
          7.925048123338551,
          7.903445152686078,
          7.903445152686078,
          7.903445152686078,
          7.903445152686078,
          7.878431186667425,
          7.878431186667425,
          7.813622274710005,
          7.813622274710005,
          7.813622274710005,
          7.781786317958991,
          7.745402367386405,
          7.745402367386405,
          7.718114404456966,
          7.694237436893705,
          7.651031495588759,
          7.651031495588759,
          7.651031495588759,
          7.651031495588759,
          7.651031495588759,
          7.563482614523473,
          7.563482614523473,
          7.5339206546832465,
          7.508906688664593,
          7.471385739636613,
          7.471385739636613,
          7.471385739636613,
          7.4566047597165,
          7.444097776707173,
          7.4236318045100935,
          7.4236318045100935,
          7.407713826134587,
          7.394069844669867,
          7.3338089265340205,
          7.272411009942781,
          7.272411009942781,
          7.272411009942781,
          7.272411009942781,
          7.272411009942781,
          7.272411009942781,
          7.272411009942781,
          7.272411009942781,
          7.272411009942781,
          7.272411009942781,
          7.272411009942781,
          7.272411009942781,
          7.272411009942781,
          7.172355145868168,
          7.157574165948054,
          7.141656187572549,
          7.141656187572549,
          7.125738209197042,
          7.107546233910748,
          7.107546233910748,
          7.107546233910748,
          7.096176249356814,
          7.082532267892095,
          7.082532267892095,
          7.066614289516588,
          7.049559312685688,
          7.049559312685688,
          7.027956342033216,
          7.001805377559169,
          6.9688324223527625,
          6.956325439343436,
          6.927900477958603,
          6.927900477958603,
          6.927900477958603,
          6.927900477958603,
          6.927900477958603,
          6.927900477958603,
          6.927900477958603,
          6.892653525841409,
          6.873324552099723,
          6.873324552099723,
          6.873324552099723,
          6.859680570635002,
          6.850584582991856,
          6.850584582991856,
          6.83125560925017,
          6.826707615428596,
          6.7982826540437635,
          6.76644669729275,
          6.74939172046185,
          6.730062746720163,
          6.730062746720163,
          6.730062746720163,
          6.720966759077017,
          6.689130802326003,
          6.689130802326003,
          6.689130802326003,
          6.652746851753417,
          6.64023986874409,
          6.64023986874409,
          6.64023986874409,
          6.64023986874409,
          6.64023986874409,
          6.64023986874409,
          6.64023986874409,
          6.64023986874409,
          6.64023986874409,
          6.625458888823977,
          6.612951905814651,
          6.612951905814651,
          6.594759930528357,
          6.557238981500378,
          6.514033040195431,
          6.514033040195431,
          6.514033040195431,
          6.514033040195431,
          6.470827098890484,
          6.465142106613518,
          6.436717145228685,
          6.429895154496324,
          6.429895154496324,
          6.429895154496324,
          6.410566180754639,
          6.410566180754639,
          6.402607191566886,
          6.396922199289918,
          6.394648202379132,
          6.379867222459018,
          6.357127253351152,
          6.357127253351152,
          6.324154298144745,
          6.302551327492273,
          6.2934553398491255,
          6.2934553398491255,
          6.274126366107439,
          6.274126366107439,
          6.274126366107439,
          6.274126366107439,
          6.274126366107439,
          6.274126366107439,
          6.274126366107439,
          6.274126366107439,
          6.261619383098113,
          6.251386396999572,
          6.251386396999572,
          6.251386396999572,
          6.251386396999572,
          6.188851481952939,
          6.188851481952939,
          6.188851481952939,
          6.1183575777185535,
          6.1183575777185535,
          6.1183575777185535,
          6.070603642592033,
          6.0592336580381,
          6.0592336580381,
          6.0592336580381,
          6.0592336580381,
          6.0592336580381,
          6.04558967657338,
          6.04558967657338,
          6.037630687385627,
          6.009205726000793,
          6.009205726000793,
          6.009205726000793,
          6.009205726000793,
          5.981917763071354,
          5.975095772338993,
          5.975095772338993,
          5.964862786240454,
          5.9534928016865205,
          5.945533812498767,
          5.945533812498767,
          5.939848820221801,
          5.927341837212475,
          5.9182458495693275,
          5.894368882006067,
          5.894368882006067,
          5.894368882006067,
          5.894368882006067,
          5.894368882006067,
          5.894368882006067,
          5.864806922165841,
          5.851162940701121,
          5.837518959236401,
          5.797724013297635,
          5.782943033377522,
          5.782943033377522,
          5.755655070448081,
          5.755655070448081,
          5.745422084349542,
          5.739737092072574,
          5.721545116786282,
          5.711312130687741,
          5.711312130687741,
          5.676065178570549,
          5.676065178570549,
          5.676065178570549,
          5.676065178570549,
          5.676065178570549,
          5.676065178570549,
          5.676065178570549,
          5.676065178570549,
          5.676065178570549,
          5.647640217185716,
          5.647640217185716,
          5.647640217185716,
          5.647640217185716,
          5.623763249622455,
          5.623763249622455,
          5.623763249622455,
          5.604434275880768,
          5.587379299049869,
          5.587379299049869,
          5.572598319129756,
          5.572598319129756,
          5.539625363923349,
          5.52257038709245,
          5.470268458144356,
          5.377034584802103,
          5.377034584802103,
          5.377034584802103,
          5.377034584802103,
          5.377034584802103,
          5.377034584802103,
          5.377034584802103,
          5.377034584802103,
          5.377034584802103,
          5.377034584802103,
          5.377034584802103,
          5.377034584802103,
          5.377034584802103,
          5.377034584802103,
          5.377034584802103,
          5.377034584802103,
          5.377034584802103,
          5.377034584802103,
          5.377034584802103,
          5.25651274853041,
          5.2235397933240035,
          5.2235397933240035,
          5.214443805680857,
          5.200799824216138,
          5.181470850474451,
          5.176922856652878,
          5.166689870554338,
          5.166689870554338,
          5.166689870554338,
          5.149634893723437,
          5.149634893723437,
          5.130305919981751,
          5.130305919981751,
          5.106428952418491,
          5.106428952418491,
          5.106428952418491,
          5.106428952418491,
          5.106428952418491,
          5.106428952418491,
          5.085962980221411,
          5.078003991033658,
          5.078003991033658,
          5.078003991033658,
          5.078003991033658,
          5.078003991033658,
          5.078003991033658,
          5.078003991033658,
          5.060949014202758,
          5.022291066719386,
          4.9984140991561254,
          4.9984140991561254,
          4.988181113057585,
          4.971126136226685,
          4.971126136226685,
          4.971126136226685,
          4.960893150128146,
          4.939290179475671,
          4.939290179475671,
          4.939290179475671,
          4.916550210367806,
          4.902906228903086,
          4.902906228903086,
          4.902906228903086,
          4.902906228903086,
          4.882440256706006,
          4.859700287598139,
          4.859700287598139,
          4.859700287598139,
          4.859700287598139,
          4.859700287598139,
          4.859700287598139,
          4.859700287598139,
          4.826727332391732,
          4.8085353571054394,
          4.8085353571054394,
          4.8085353571054394,
          4.8085353571054394,
          4.8085353571054394,
          4.8085353571054394,
          4.784658389542179,
          4.744863443603412,
          4.744863443603412,
          4.744863443603412,
          4.744863443603412,
          4.744863443603412,
          4.744863443603412,
          4.744863443603412,
          4.744863443603412,
          4.744863443603412,
          4.744863443603412,
          4.744863443603412,
          4.744863443603412,
          4.744863443603412,
          4.694835511566106,
          4.694835511566106,
          4.694835511566106,
          4.694835511566106,
          4.6834655270121734,
          4.666410550181273,
          4.666410550181273,
          4.666410550181273,
          4.666410550181273,
          4.635711591885653,
          4.635711591885653,
          4.635711591885653,
          4.635711591885653,
          4.635711591885653,
          4.635711591885653,
          4.626615604242507,
          4.565217687651267,
          4.565217687651267,
          4.565217687651267,
          4.565217687651267,
          4.565217687651267,
          4.565217687651267,
          4.515189755613961,
          4.515189755613961,
          4.515189755613961,
          4.502682772604635,
          4.502682772604635,
          4.479942803496767,
          4.479942803496767,
          4.479942803496767,
          4.460613829755081,
          4.460613829755081,
          4.429914871459461,
          4.429914871459461,
          4.396941916253055,
          4.374201947145188,
          4.374201947145188,
          4.3435029888495675,
          4.3435029888495675,
          4.3435029888495675,
          4.3435029888495675,
          4.3435029888495675,
          4.324174015107881,
          4.324174015107881,
          4.240036129408775,
          4.240036129408775,
          4.240036129408775,
          4.240036129408775,
          4.240036129408775,
          4.240036129408775,
          4.240036129408775,
          4.170679223629782,
          4.170679223629782,
          4.159309239075849,
          4.159309239075849,
          4.159309239075849,
          4.159309239075849,
          4.151350249888096,
          4.141117263789556,
          4.141117263789556,
          4.141117263789556,
          4.141117263789556,
          4.141117263789556,
          4.141117263789556,
          4.113829300860116,
          4.113829300860116,
          4.113829300860116,
          4.113829300860116,
          4.113829300860116,
          4.113829300860116,
          4.113829300860116,
          4.064938367278203,
          4.064938367278203,
          4.03992440125955,
          4.024006422884043,
          4.024006422884043,
          4.024006422884043,
          4.024006422884043,
          4.024006422884043,
          4.004677449142356,
          3.955786515560443,
          3.955786515560443,
          3.914854571166283,
          3.914854571166283,
          3.914854571166283,
          3.9034845866123504,
          3.9034845866123504,
          3.9034845866123504,
          3.8943885989692033,
          3.88984060514763,
          3.880744617504484,
          3.880744617504484,
          3.880744617504484,
          3.880744617504484,
          3.880744617504484,
          3.880744617504484,
          3.871648629861337,
          3.861415643762797,
          3.826168691645604,
          3.826168691645604,
          3.826168691645604,
          3.826168691645604,
          3.826168691645604,
          3.826168691645604,
          3.826168691645604,
          3.826168691645604,
          3.804565720993131,
          3.7931957364391975,
          3.785236747251444,
          3.785236747251444,
          3.752263792045037,
          3.726112827570992,
          3.7192908368386313,
          3.704509856918518,
          3.671536901712111,
          3.671536901712111,
          3.671536901712111,
          3.671536901712111,
          3.671536901712111,
          3.671536901712111,
          3.646522935693458,
          3.646522935693458,
          3.6283309604071654,
          3.6283309604071654,
          3.6124129820316586,
          3.590810011379186,
          3.4816581596614258,
          3.4816581596614258,
          3.4816581596614258,
          3.4816581596614258,
          3.4816581596614258,
          3.4816581596614258,
          3.4816581596614258,
          3.4816581596614258,
          3.4816581596614258,
          3.4816581596614258,
          3.4816581596614258,
          3.4816581596614258,
          3.4816581596614258,
          3.4816581596614258,
          3.4816581596614258,
          3.4816581596614258,
          3.4816581596614258,
          3.4816581596614258,
          3.4134382523378264,
          3.399794270873106,
          3.379328298676027,
          3.379328298676027,
          3.379328298676027,
          3.35999932493434,
          3.35999932493434,
          3.35999932493434,
          3.35999932493434,
          3.34635534346962,
          3.34635534346962,
          3.34635534346962,
          3.330437365094113,
          3.330437365094113,
          3.3099713928970322,
          3.3099713928970322,
          3.3099713928970322,
          3.3099713928970322,
          3.3099713928970322,
          3.2974644098877057,
          3.2826834299675927,
          3.2826834299675927,
          3.2826834299675927,
          3.2826834299675927,
          3.2826834299675927,
          3.2826834299675927,
          3.265628453136694,
          3.225833507197927,
          3.22014851492096,
          3.22014851492096,
          3.22014851492096,
          3.190586555080733,
          3.190586555080733,
          3.190586555080733,
          3.190586555080733,
          3.166709587517474,
          3.1519286075973616,
          3.1519286075973616,
          3.1519286075973616,
          3.1519286075973616,
          3.1519286075973616,
          3.146243615320393,
          3.1371476276772468,
          3.1371476276772468,
          3.1371476276772468,
          3.1030376740154475,
          3.1030376740154475,
          3.1030376740154475,
          3.1030376740154475,
          3.1030376740154475,
          3.079160706452188,
          3.079160706452188,
          3.0723387157198276,
          3.0723387157198276,
          3.060968731165893,
          3.0086668022178014,
          3.0086668022178014,
          3.0086668022178014,
          2.960912867091281,
          2.940446894894201,
          2.940446894894201,
          2.940446894894201,
          2.940446894894201,
          2.940446894894201,
          2.940446894894201,
          2.940446894894201,
          2.940446894894201,
          2.940446894894201,
          2.940446894894201,
          2.940446894894201,
          2.940446894894201,
          2.940446894894201,
          2.8995149505000413,
          2.8892819644015013,
          2.8892819644015013,
          2.875637982936782,
          2.8688159922044214,
          2.850624016918129,
          2.850624016918129,
          2.850624016918129,
          2.850624016918129,
          2.850624016918129,
          2.836980035453408,
          2.8290210462656553,
          2.8290210462656553,
          2.8131030678901485,
          2.8131030678901485,
          2.7926370956930686,
          2.7926370956930686,
          2.7926370956930686,
          2.7528421497543025,
          2.7426091636557626,
          2.72441718836947,
          2.6846222424307022,
          2.6846222424307022,
          2.6846222424307022,
          2.6846222424307022,
          2.6584712779566573,
          2.6584712779566573,
          2.6584712779566573,
          2.640279302670363,
          2.640279302670363,
          2.600484356731597,
          2.534538446318784,
          2.534538446318784,
          2.534538446318784,
          2.534538446318784,
          2.534538446318784,
          2.534538446318784,
          2.534538446318784,
          2.534538446318784,
          2.534538446318784,
          2.534538446318784,
          2.4367565791549577,
          2.4367565791549577,
          2.4367565791549577,
          2.420838600779451,
          2.420838600779451,
          2.420838600779451,
          2.3992356301269773,
          2.3992356301269773,
          2.3992356301269773,
          2.3992356301269773,
          2.344659704268098,
          2.344659704268098,
          2.344659704268098,
          2.316234742883264,
          2.316234742883264,
          2.316234742883264,
          2.316234742883264,
          2.291220776864611,
          2.2593848201135973,
          2.2184528757194375,
          2.2184528757194375,
          2.2184528757194375,
          2.2184528757194375,
          2.2184528757194375,
          2.2184528757194375,
          2.2184528757194375,
          2.2184528757194375,
          2.2184528757194375,
          2.2184528757194375,
          2.2184528757194375,
          2.179794928236065,
          2.1638769498605583,
          2.1638769498605583,
          2.1638769498605583,
          2.1638769498605583,
          2.150232968395839,
          2.1286299977433654,
          2.1286299977433654,
          2.1286299977433654,
          2.1286299977433654,
          2.111575020912465,
          2.085424056438418,
          2.085424056438418,
          2.085424056438418,
          2.085424056438418,
          2.085424056438418,
          2.085424056438418,
          2.085424056438418,
          2.085424056438418,
          2.060410090419765,
          2.060410090419765,
          2.0444921120442583,
          2.0444921120442583,
          1.9660392186221198,
          1.9660392186221198,
          1.9660392186221198,
          1.9660392186221198,
          1.9660392186221198,
          1.9660392186221198,
          1.9660392186221198,
          1.9660392186221198,
          1.9660392186221198,
          1.9660392186221198,
          1.9216962788617789,
          1.9069152989416676,
          1.8921343190215527,
          1.8921343190215527,
          1.8784903375568334,
          1.8580243653597535,
          1.8580243653597535,
          1.8580243653597535,
          1.8580243653597535,
          1.8580243653597535,
          1.8239144116979542,
          1.7977634472239057,
          1.7977634472239057,
          1.7977634472239057,
          1.7977634472239057,
          1.7977634472239057,
          1.7977634472239057,
          1.7863934626699738,
          1.759105499740535,
          1.759105499740535,
          1.759105499740535,
          1.759105499740535,
          1.759105499740535,
          1.7386395275434534,
          1.7329545352664883,
          1.7227215491679466,
          1.7227215491679466,
          1.7227215491679466,
          1.6988445816046873,
          1.6988445816046873,
          1.6692826217644612,
          1.6692826217644612,
          1.6522276449335607,
          1.640857660379627,
          1.5874187329761416,
          1.5874187329761416,
          1.5874187329761416,
          1.5874187329761416,
          1.5874187329761416,
          1.5874187329761416,
          1.5874187329761416,
          1.5874187329761416,
          1.5874187329761416,
          1.5874187329761416,
          1.5874187329761416,
          1.5874187329761416,
          1.5874187329761416,
          1.5589937715913074,
          1.5362538024834418,
          1.4873628689015295,
          1.4873628689015295,
          1.4873628689015295,
          1.4873628689015295,
          1.4680338951598415,
          1.4566639106059078,
          1.4521159167843365,
          1.440745932230401,
          1.440745932230401,
          1.440745932230401,
          1.3975399909254556,
          1.3975399909254556,
          1.3975399909254556,
          1.3975399909254556,
          1.3975399909254556,
          1.3975399909254556,
          1.375937020272982,
          1.375937020272982,
          1.375937020272982,
          1.3497860557989352,
          1.3168131005925297,
          1.3168131005925297,
          1.3168131005925297,
          1.3168131005925297,
          1.3168131005925297,
          1.2781551531091555,
          1.259963177822863,
          1.259963177822863,
          1.2429082009919625,
          1.2429082009919625,
          1.2429082009919625,
          1.2429082009919625,
          1.2429082009919625,
          1.2429082009919625,
          1.2281272210718495,
          1.1883322751330834,
          1.174688293668364,
          1.174688293668364,
          1.174688293668364,
          1.1587703152928572,
          1.1485373291943173,
          1.1132903770771243,
          1.1132903770771243,
          1.0587144512182434,
          1.0564404543074577,
          1.0564404543074577,
          1.0564404543074577,
          1.0291524913780172,
          1.0189195052794773,
          1.0041385253593642,
          1.0041385253593642,
          1.0041385253593642,
          0.9791245593407094,
          0.9552475917774501,
          0.9552475917774501,
          0.9552475917774501,
          0.9552475917774501,
          0.9552475917774501,
          0.9552475917774501,
          0.9552475917774501,
          0.9552475917774501,
          0.9552475917774501,
          0.9552475917774501,
          0.9552475917774501,
          0.9552475917774501,
          0.9552475917774501,
          0.9552475917774501,
          0.9552475917774501,
          0.9404666118573388,
          0.9097676535617172,
          0.8893016813646373,
          0.8893016813646373,
          0.8893016813646373,
          0.8767946983553117,
          0.8290407632287913,
          0.8290407632287913,
          0.8290407632287913,
          0.8290407632287913,
          0.8290407632287913,
          0.8290407632287913,
          0.7744648373699121,
          0.7744648373699121,
          0.7744648373699121,
          0.7744648373699121,
          0.7585468589944053,
          0.7494508713512573,
          0.7255739037879998,
          0.7255739037879998,
          0.7028339346801324,
          0.6948749454923782,
          0.6948749454923782,
          0.6812309640276588,
          0.6812309640276588,
          0.6812309640276588,
          0.6812309640276588,
          0.666449984107544,
          0.666449984107544,
          0.6550799995536121,
          0.6528060026428264,
          0.6391620211781053,
          0.6391620211781053,
          0.6391620211781053,
          0.6232440428025985,
          0.6198330474364191,
          0.6141480551594523,
          0.6141480551594523,
          0.6016410721501266,
          0.6016410721501266,
          0.6016410721501266,
          0.5891340891407992,
          0.5891340891407992,
          0.5891340891407992,
          0.5834490968638324,
          0.5663941200329319,
          0.5663941200329319,
          0.5663941200329319,
          0.5663941200329319,
          0.5663941200329319,
          0.5663941200329319,
          0.54479114938046,
          0.5345581632819183,
          0.5345581632819183,
          0.5345581632819183,
          0.4902152235215791,
          0.47657124205685975,
          0.47657124205685975,
          0.450420277582813,
          0.4026663424562926,
          0.38106337180382077,
          0.38106337180382077,
          0.3742413810714602,
          0.3605973996067391,
          0.34809041659741347,
          0.32421344903415417,
          0.32421344903415417,
          0.32421344903415417,
          0.32421344903415417,
          0.32421344903415417,
          0.32421344903415417,
          0.32421344903415417,
          0.32421344903415417,
          0.32421344903415417,
          0.32421344903415417,
          0.32421344903415417,
          0.32421344903415417,
          0.32421344903415417,
          0.32421344903415417,
          0.32421344903415417,
          0.30715847220325365,
          0.30715847220325365,
          0.2901034953723549,
          0.2901034953723549,
          0.2901034953723549,
          0.2901034953723549,
          0.2901034953723549,
          0.2901034953723549,
          0.2901034953723549,
          0.2901034953723549,
          0.27532251545224007,
          0.26963752317527323,
          0.260541535532127,
          0.260541535532127,
          0.260541535532127,
          0.260541535532127,
          0.260541535532127,
          0.260541535532127,
          0.260541535532127,
          0.25144554788898077,
          0.2332535726026883,
          0.2332535726026883,
          0.2332535726026883,
          0.2332535726026883,
          0.2332535726026883,
          0.2332535726026883,
          0.2332535726026883,
          0.2332535726026883,
          0.2207465895933609,
          0.20937660503942723,
          0.20937660503942723,
          0.18663663593155988,
          0.18663663593155988,
          0.18663663593155988,
          0.18663663593155988,
          0.16617066373448175,
          0.1468416899927938,
          0.1354717054388619,
          0.13319770852807444,
          0.12978671316189327,
          0.12978671316189327,
          0.12978671316189327,
          0.11841672860796137,
          0.11273173633099454,
          0.11273173633099454,
          0.11273173633099454,
          0.09795075641088147,
          0.09795075641088147,
          0.09795075641088147,
          0.09112876567852268,
          0.08430677494616212,
          0.070662793481441,
          0.070662793481441,
          0.06497780120447594,
          0.0592928089275091,
          0.0592928089275091,
          0.0467858259181817,
          0.017223866077955563,
          0.017223866077955563,
          0.013812870711774394,
          0.009264876890203055,
          -0.0009681092083368981,
          -0.0009681092083368981,
          -0.008927098396091182,
          -0.008927098396091182,
          -0.01688608758384369,
          -0.049859042790250996,
          -0.12490094084621006,
          -0.12490094084621006,
          -0.14422991458789802,
          -0.21244982191149653,
          -0.3079576921645373,
          -0.3079576921645373,
          -0.3079576921645373,
          -0.3079576921645373,
          -0.3079576921645373,
          -0.3079576921645373,
          -0.3079576921645373,
          -0.3079576921645373,
          -0.3079576921645373,
          -0.3079576921645373,
          -0.3079576921645373,
          -0.3079576921645373,
          -0.3079576921645373,
          -0.3079576921645373,
          -0.3079576921645373,
          -0.3079576921645373,
          -0.3079576921645373,
          -0.3079576921645373,
          -0.3079576921645373,
          -0.3079576921645373,
          -0.3079576921645373,
          -0.3079576921645373,
          -0.3079576921645373,
          -0.3079576921645373,
          -0.3079576921645373,
          -0.3079576921645373,
          -0.3079576921645373,
          -0.3079576921645373,
          -0.3079576921645373,
          -0.3079576921645373,
          -0.3079576921645373,
          -0.3079576921645373,
          -0.3079576921645373,
          -0.3079576921645373,
          -0.3079576921645373,
          -0.3079576921645373,
          -0.3079576921645373,
          -0.3079576921645373,
          -0.3079576921645373,
          -0.3079576921645373,
          -0.3079576921645373,
          -0.3079576921645373,
          -0.3079576921645373,
          -0.3079576921645373,
          -0.3079576921645373,
          -0.3079576921645373,
          -0.3079576921645373,
          -0.3079576921645373,
          -0.3079576921645373
         ],
         "yaxis": "y"
        }
       ],
       "layout": {
        "legend": {
         "tracegroupgap": 0
        },
        "template": {
         "data": {
          "bar": [
           {
            "error_x": {
             "color": "#2a3f5f"
            },
            "error_y": {
             "color": "#2a3f5f"
            },
            "marker": {
             "line": {
              "color": "white",
              "width": 0.5
             },
             "pattern": {
              "fillmode": "overlay",
              "size": 10,
              "solidity": 0.2
             }
            },
            "type": "bar"
           }
          ],
          "barpolar": [
           {
            "marker": {
             "line": {
              "color": "white",
              "width": 0.5
             },
             "pattern": {
              "fillmode": "overlay",
              "size": 10,
              "solidity": 0.2
             }
            },
            "type": "barpolar"
           }
          ],
          "carpet": [
           {
            "aaxis": {
             "endlinecolor": "#2a3f5f",
             "gridcolor": "#C8D4E3",
             "linecolor": "#C8D4E3",
             "minorgridcolor": "#C8D4E3",
             "startlinecolor": "#2a3f5f"
            },
            "baxis": {
             "endlinecolor": "#2a3f5f",
             "gridcolor": "#C8D4E3",
             "linecolor": "#C8D4E3",
             "minorgridcolor": "#C8D4E3",
             "startlinecolor": "#2a3f5f"
            },
            "type": "carpet"
           }
          ],
          "choropleth": [
           {
            "colorbar": {
             "outlinewidth": 0,
             "ticks": ""
            },
            "type": "choropleth"
           }
          ],
          "contour": [
           {
            "colorbar": {
             "outlinewidth": 0,
             "ticks": ""
            },
            "colorscale": [
             [
              0,
              "#0d0887"
             ],
             [
              0.1111111111111111,
              "#46039f"
             ],
             [
              0.2222222222222222,
              "#7201a8"
             ],
             [
              0.3333333333333333,
              "#9c179e"
             ],
             [
              0.4444444444444444,
              "#bd3786"
             ],
             [
              0.5555555555555556,
              "#d8576b"
             ],
             [
              0.6666666666666666,
              "#ed7953"
             ],
             [
              0.7777777777777778,
              "#fb9f3a"
             ],
             [
              0.8888888888888888,
              "#fdca26"
             ],
             [
              1,
              "#f0f921"
             ]
            ],
            "type": "contour"
           }
          ],
          "contourcarpet": [
           {
            "colorbar": {
             "outlinewidth": 0,
             "ticks": ""
            },
            "type": "contourcarpet"
           }
          ],
          "heatmap": [
           {
            "colorbar": {
             "outlinewidth": 0,
             "ticks": ""
            },
            "colorscale": [
             [
              0,
              "#0d0887"
             ],
             [
              0.1111111111111111,
              "#46039f"
             ],
             [
              0.2222222222222222,
              "#7201a8"
             ],
             [
              0.3333333333333333,
              "#9c179e"
             ],
             [
              0.4444444444444444,
              "#bd3786"
             ],
             [
              0.5555555555555556,
              "#d8576b"
             ],
             [
              0.6666666666666666,
              "#ed7953"
             ],
             [
              0.7777777777777778,
              "#fb9f3a"
             ],
             [
              0.8888888888888888,
              "#fdca26"
             ],
             [
              1,
              "#f0f921"
             ]
            ],
            "type": "heatmap"
           }
          ],
          "heatmapgl": [
           {
            "colorbar": {
             "outlinewidth": 0,
             "ticks": ""
            },
            "colorscale": [
             [
              0,
              "#0d0887"
             ],
             [
              0.1111111111111111,
              "#46039f"
             ],
             [
              0.2222222222222222,
              "#7201a8"
             ],
             [
              0.3333333333333333,
              "#9c179e"
             ],
             [
              0.4444444444444444,
              "#bd3786"
             ],
             [
              0.5555555555555556,
              "#d8576b"
             ],
             [
              0.6666666666666666,
              "#ed7953"
             ],
             [
              0.7777777777777778,
              "#fb9f3a"
             ],
             [
              0.8888888888888888,
              "#fdca26"
             ],
             [
              1,
              "#f0f921"
             ]
            ],
            "type": "heatmapgl"
           }
          ],
          "histogram": [
           {
            "marker": {
             "pattern": {
              "fillmode": "overlay",
              "size": 10,
              "solidity": 0.2
             }
            },
            "type": "histogram"
           }
          ],
          "histogram2d": [
           {
            "colorbar": {
             "outlinewidth": 0,
             "ticks": ""
            },
            "colorscale": [
             [
              0,
              "#0d0887"
             ],
             [
              0.1111111111111111,
              "#46039f"
             ],
             [
              0.2222222222222222,
              "#7201a8"
             ],
             [
              0.3333333333333333,
              "#9c179e"
             ],
             [
              0.4444444444444444,
              "#bd3786"
             ],
             [
              0.5555555555555556,
              "#d8576b"
             ],
             [
              0.6666666666666666,
              "#ed7953"
             ],
             [
              0.7777777777777778,
              "#fb9f3a"
             ],
             [
              0.8888888888888888,
              "#fdca26"
             ],
             [
              1,
              "#f0f921"
             ]
            ],
            "type": "histogram2d"
           }
          ],
          "histogram2dcontour": [
           {
            "colorbar": {
             "outlinewidth": 0,
             "ticks": ""
            },
            "colorscale": [
             [
              0,
              "#0d0887"
             ],
             [
              0.1111111111111111,
              "#46039f"
             ],
             [
              0.2222222222222222,
              "#7201a8"
             ],
             [
              0.3333333333333333,
              "#9c179e"
             ],
             [
              0.4444444444444444,
              "#bd3786"
             ],
             [
              0.5555555555555556,
              "#d8576b"
             ],
             [
              0.6666666666666666,
              "#ed7953"
             ],
             [
              0.7777777777777778,
              "#fb9f3a"
             ],
             [
              0.8888888888888888,
              "#fdca26"
             ],
             [
              1,
              "#f0f921"
             ]
            ],
            "type": "histogram2dcontour"
           }
          ],
          "mesh3d": [
           {
            "colorbar": {
             "outlinewidth": 0,
             "ticks": ""
            },
            "type": "mesh3d"
           }
          ],
          "parcoords": [
           {
            "line": {
             "colorbar": {
              "outlinewidth": 0,
              "ticks": ""
             }
            },
            "type": "parcoords"
           }
          ],
          "pie": [
           {
            "automargin": true,
            "type": "pie"
           }
          ],
          "scatter": [
           {
            "fillpattern": {
             "fillmode": "overlay",
             "size": 10,
             "solidity": 0.2
            },
            "type": "scatter"
           }
          ],
          "scatter3d": [
           {
            "line": {
             "colorbar": {
              "outlinewidth": 0,
              "ticks": ""
             }
            },
            "marker": {
             "colorbar": {
              "outlinewidth": 0,
              "ticks": ""
             }
            },
            "type": "scatter3d"
           }
          ],
          "scattercarpet": [
           {
            "marker": {
             "colorbar": {
              "outlinewidth": 0,
              "ticks": ""
             }
            },
            "type": "scattercarpet"
           }
          ],
          "scattergeo": [
           {
            "marker": {
             "colorbar": {
              "outlinewidth": 0,
              "ticks": ""
             }
            },
            "type": "scattergeo"
           }
          ],
          "scattergl": [
           {
            "marker": {
             "colorbar": {
              "outlinewidth": 0,
              "ticks": ""
             }
            },
            "type": "scattergl"
           }
          ],
          "scattermapbox": [
           {
            "marker": {
             "colorbar": {
              "outlinewidth": 0,
              "ticks": ""
             }
            },
            "type": "scattermapbox"
           }
          ],
          "scatterpolar": [
           {
            "marker": {
             "colorbar": {
              "outlinewidth": 0,
              "ticks": ""
             }
            },
            "type": "scatterpolar"
           }
          ],
          "scatterpolargl": [
           {
            "marker": {
             "colorbar": {
              "outlinewidth": 0,
              "ticks": ""
             }
            },
            "type": "scatterpolargl"
           }
          ],
          "scatterternary": [
           {
            "marker": {
             "colorbar": {
              "outlinewidth": 0,
              "ticks": ""
             }
            },
            "type": "scatterternary"
           }
          ],
          "surface": [
           {
            "colorbar": {
             "outlinewidth": 0,
             "ticks": ""
            },
            "colorscale": [
             [
              0,
              "#0d0887"
             ],
             [
              0.1111111111111111,
              "#46039f"
             ],
             [
              0.2222222222222222,
              "#7201a8"
             ],
             [
              0.3333333333333333,
              "#9c179e"
             ],
             [
              0.4444444444444444,
              "#bd3786"
             ],
             [
              0.5555555555555556,
              "#d8576b"
             ],
             [
              0.6666666666666666,
              "#ed7953"
             ],
             [
              0.7777777777777778,
              "#fb9f3a"
             ],
             [
              0.8888888888888888,
              "#fdca26"
             ],
             [
              1,
              "#f0f921"
             ]
            ],
            "type": "surface"
           }
          ],
          "table": [
           {
            "cells": {
             "fill": {
              "color": "#EBF0F8"
             },
             "line": {
              "color": "white"
             }
            },
            "header": {
             "fill": {
              "color": "#C8D4E3"
             },
             "line": {
              "color": "white"
             }
            },
            "type": "table"
           }
          ]
         },
         "layout": {
          "annotationdefaults": {
           "arrowcolor": "#2a3f5f",
           "arrowhead": 0,
           "arrowwidth": 1
          },
          "autotypenumbers": "strict",
          "coloraxis": {
           "colorbar": {
            "outlinewidth": 0,
            "ticks": ""
           }
          },
          "colorscale": {
           "diverging": [
            [
             0,
             "#8e0152"
            ],
            [
             0.1,
             "#c51b7d"
            ],
            [
             0.2,
             "#de77ae"
            ],
            [
             0.3,
             "#f1b6da"
            ],
            [
             0.4,
             "#fde0ef"
            ],
            [
             0.5,
             "#f7f7f7"
            ],
            [
             0.6,
             "#e6f5d0"
            ],
            [
             0.7,
             "#b8e186"
            ],
            [
             0.8,
             "#7fbc41"
            ],
            [
             0.9,
             "#4d9221"
            ],
            [
             1,
             "#276419"
            ]
           ],
           "sequential": [
            [
             0,
             "#0d0887"
            ],
            [
             0.1111111111111111,
             "#46039f"
            ],
            [
             0.2222222222222222,
             "#7201a8"
            ],
            [
             0.3333333333333333,
             "#9c179e"
            ],
            [
             0.4444444444444444,
             "#bd3786"
            ],
            [
             0.5555555555555556,
             "#d8576b"
            ],
            [
             0.6666666666666666,
             "#ed7953"
            ],
            [
             0.7777777777777778,
             "#fb9f3a"
            ],
            [
             0.8888888888888888,
             "#fdca26"
            ],
            [
             1,
             "#f0f921"
            ]
           ],
           "sequentialminus": [
            [
             0,
             "#0d0887"
            ],
            [
             0.1111111111111111,
             "#46039f"
            ],
            [
             0.2222222222222222,
             "#7201a8"
            ],
            [
             0.3333333333333333,
             "#9c179e"
            ],
            [
             0.4444444444444444,
             "#bd3786"
            ],
            [
             0.5555555555555556,
             "#d8576b"
            ],
            [
             0.6666666666666666,
             "#ed7953"
            ],
            [
             0.7777777777777778,
             "#fb9f3a"
            ],
            [
             0.8888888888888888,
             "#fdca26"
            ],
            [
             1,
             "#f0f921"
            ]
           ]
          },
          "colorway": [
           "#636efa",
           "#EF553B",
           "#00cc96",
           "#ab63fa",
           "#FFA15A",
           "#19d3f3",
           "#FF6692",
           "#B6E880",
           "#FF97FF",
           "#FECB52"
          ],
          "font": {
           "color": "#2a3f5f"
          },
          "geo": {
           "bgcolor": "white",
           "lakecolor": "white",
           "landcolor": "white",
           "showlakes": true,
           "showland": true,
           "subunitcolor": "#C8D4E3"
          },
          "hoverlabel": {
           "align": "left"
          },
          "hovermode": "closest",
          "mapbox": {
           "style": "light"
          },
          "paper_bgcolor": "white",
          "plot_bgcolor": "white",
          "polar": {
           "angularaxis": {
            "gridcolor": "#EBF0F8",
            "linecolor": "#EBF0F8",
            "ticks": ""
           },
           "bgcolor": "white",
           "radialaxis": {
            "gridcolor": "#EBF0F8",
            "linecolor": "#EBF0F8",
            "ticks": ""
           }
          },
          "scene": {
           "xaxis": {
            "backgroundcolor": "white",
            "gridcolor": "#DFE8F3",
            "gridwidth": 2,
            "linecolor": "#EBF0F8",
            "showbackground": true,
            "ticks": "",
            "zerolinecolor": "#EBF0F8"
           },
           "yaxis": {
            "backgroundcolor": "white",
            "gridcolor": "#DFE8F3",
            "gridwidth": 2,
            "linecolor": "#EBF0F8",
            "showbackground": true,
            "ticks": "",
            "zerolinecolor": "#EBF0F8"
           },
           "zaxis": {
            "backgroundcolor": "white",
            "gridcolor": "#DFE8F3",
            "gridwidth": 2,
            "linecolor": "#EBF0F8",
            "showbackground": true,
            "ticks": "",
            "zerolinecolor": "#EBF0F8"
           }
          },
          "shapedefaults": {
           "line": {
            "color": "#2a3f5f"
           }
          },
          "ternary": {
           "aaxis": {
            "gridcolor": "#DFE8F3",
            "linecolor": "#A2B1C6",
            "ticks": ""
           },
           "baxis": {
            "gridcolor": "#DFE8F3",
            "linecolor": "#A2B1C6",
            "ticks": ""
           },
           "bgcolor": "white",
           "caxis": {
            "gridcolor": "#DFE8F3",
            "linecolor": "#A2B1C6",
            "ticks": ""
           }
          },
          "title": {
           "x": 0.05
          },
          "xaxis": {
           "automargin": true,
           "gridcolor": "#EBF0F8",
           "linecolor": "#EBF0F8",
           "ticks": "",
           "title": {
            "standoff": 15
           },
           "zerolinecolor": "#EBF0F8",
           "zerolinewidth": 2
          },
          "yaxis": {
           "automargin": true,
           "gridcolor": "#EBF0F8",
           "linecolor": "#EBF0F8",
           "ticks": "",
           "title": {
            "standoff": 15
           },
           "zerolinecolor": "#EBF0F8",
           "zerolinewidth": 2
          }
         }
        },
        "title": {
         "text": "Relationship between Bounce Rate and Avg. Session Duration"
        },
        "xaxis": {
         "anchor": "y",
         "domain": [
          0,
          1
         ],
         "title": {
          "text": "Bounce Rate"
         }
        },
        "yaxis": {
         "anchor": "x",
         "domain": [
          0,
          1
         ],
         "title": {
          "text": "Avg. Session Duration"
         }
        }
       }
      }
     },
     "metadata": {},
     "output_type": "display_data"
    }
   ],
   "source": [
    "## The relationship between the average session duration and the bounce rates\n",
    "\n",
    "# Create a scatter plot to analyze the relationship between bounce rate and avg session duration\n",
    "scatter_fig = px.scatter(data, x='Bounce Rate', y='Avg. Session Duration',\n",
    "                         title='Relationship between Bounce Rate and Avg. Session Duration', trendline='ols')\n",
    "\n",
    "scatter_fig.update_layout(\n",
    "    xaxis=dict(title='Bounce Rate'),\n",
    "    yaxis=dict(title='Avg. Session Duration')\n",
    ")\n",
    "\n",
    "scatter_fig.show()"
   ]
  },
  {
   "cell_type": "code",
   "execution_count": 17,
   "metadata": {},
   "outputs": [
    {
     "name": "stdout",
     "output_type": "stream",
     "text": [
      "        Client ID  Sessions  Avg. Session Duration  Bounce Rate  \\\n",
      "0    5.778476e+08       367               1.583333        87.19   \n",
      "1    1.583822e+09       260               1.066667        29.62   \n",
      "2    1.030699e+09       237               0.033333        99.16   \n",
      "3    1.025030e+09       226               2.366667        25.66   \n",
      "4    1.469968e+09       216               1.383333        46.76   \n",
      "..            ...       ...                    ...          ...   \n",
      "994  1.049263e+09        17               7.733333        41.18   \n",
      "995  1.145806e+09        17               5.616667        47.06   \n",
      "996  1.153811e+09        17               0.200000        94.12   \n",
      "997  1.182133e+09        17               1.216667        88.24   \n",
      "998  1.184187e+09        17               2.566667        64.71   \n",
      "\n",
      "    Bounce Rate Segment  Total Session Duration Retention Segment  \n",
      "0                  High              581.083333    Frequent Users  \n",
      "1                   Low              277.333333    Frequent Users  \n",
      "2                  High                7.900000    Frequent Users  \n",
      "3                   Low              534.866667    Frequent Users  \n",
      "4                Medium              298.800000    Frequent Users  \n",
      "..                  ...                     ...               ...  \n",
      "994              Medium              131.466667  Occasional Users  \n",
      "995              Medium               95.483333  Occasional Users  \n",
      "996                High                3.400000  Occasional Users  \n",
      "997                High               20.683333  Occasional Users  \n",
      "998              Medium               43.633333  Occasional Users  \n",
      "\n",
      "[999 rows x 7 columns]\n"
     ]
    }
   ],
   "source": [
    "## We can create retention segments based on the number of sessions\n",
    "\n",
    "## The above function takes a row of data as input. It assigns a retention segment based on the number of sessions for each row. \n",
    "## If the number of sessions is greater than or equal to 32 (which is the mean of sessions), the function returns ‘Frequent Users’. \n",
    "## Otherwise, it returns ‘Occasional Users’\n",
    "\n",
    "\n",
    "# Define the retention segments based on number of sessions\n",
    "def get_retention_segment(row):\n",
    "    if row['Sessions'] >= 32: # 32 is mean of sessions\n",
    "        return 'Frequent Users'\n",
    "    else:\n",
    "        return 'Occasional Users'\n",
    "\n",
    "# Create a new column for retention segments\n",
    "data['Retention Segment'] = data.apply(get_retention_segment, axis=1)\n",
    "\n",
    "# Print the updated DataFrame\n",
    "print(data)"
   ]
  },
  {
   "cell_type": "code",
   "execution_count": 18,
   "metadata": {},
   "outputs": [
    {
     "data": {
      "application/vnd.plotly.v1+json": {
       "config": {
        "plotlyServerURL": "https://plot.ly"
       },
       "data": [
        {
         "alignmentgroup": "True",
         "hovertemplate": "Retention Segment=%{x}<br>Average Bounce Rate=%{y}<extra></extra>",
         "legendgroup": "",
         "marker": {
          "color": "#636efa",
          "pattern": {
           "shape": ""
          }
         },
         "name": "",
         "offsetgroup": "",
         "orientation": "v",
         "showlegend": false,
         "textposition": "auto",
         "type": "bar",
         "x": [
          "Frequent Users",
          "Occasional Users"
         ],
         "xaxis": "x",
         "y": [
          64.45053872053873,
          65.67074074074074
         ],
         "yaxis": "y"
        }
       ],
       "layout": {
        "barmode": "relative",
        "legend": {
         "tracegroupgap": 0
        },
        "template": {
         "data": {
          "bar": [
           {
            "error_x": {
             "color": "#2a3f5f"
            },
            "error_y": {
             "color": "#2a3f5f"
            },
            "marker": {
             "line": {
              "color": "white",
              "width": 0.5
             },
             "pattern": {
              "fillmode": "overlay",
              "size": 10,
              "solidity": 0.2
             }
            },
            "type": "bar"
           }
          ],
          "barpolar": [
           {
            "marker": {
             "line": {
              "color": "white",
              "width": 0.5
             },
             "pattern": {
              "fillmode": "overlay",
              "size": 10,
              "solidity": 0.2
             }
            },
            "type": "barpolar"
           }
          ],
          "carpet": [
           {
            "aaxis": {
             "endlinecolor": "#2a3f5f",
             "gridcolor": "#C8D4E3",
             "linecolor": "#C8D4E3",
             "minorgridcolor": "#C8D4E3",
             "startlinecolor": "#2a3f5f"
            },
            "baxis": {
             "endlinecolor": "#2a3f5f",
             "gridcolor": "#C8D4E3",
             "linecolor": "#C8D4E3",
             "minorgridcolor": "#C8D4E3",
             "startlinecolor": "#2a3f5f"
            },
            "type": "carpet"
           }
          ],
          "choropleth": [
           {
            "colorbar": {
             "outlinewidth": 0,
             "ticks": ""
            },
            "type": "choropleth"
           }
          ],
          "contour": [
           {
            "colorbar": {
             "outlinewidth": 0,
             "ticks": ""
            },
            "colorscale": [
             [
              0,
              "#0d0887"
             ],
             [
              0.1111111111111111,
              "#46039f"
             ],
             [
              0.2222222222222222,
              "#7201a8"
             ],
             [
              0.3333333333333333,
              "#9c179e"
             ],
             [
              0.4444444444444444,
              "#bd3786"
             ],
             [
              0.5555555555555556,
              "#d8576b"
             ],
             [
              0.6666666666666666,
              "#ed7953"
             ],
             [
              0.7777777777777778,
              "#fb9f3a"
             ],
             [
              0.8888888888888888,
              "#fdca26"
             ],
             [
              1,
              "#f0f921"
             ]
            ],
            "type": "contour"
           }
          ],
          "contourcarpet": [
           {
            "colorbar": {
             "outlinewidth": 0,
             "ticks": ""
            },
            "type": "contourcarpet"
           }
          ],
          "heatmap": [
           {
            "colorbar": {
             "outlinewidth": 0,
             "ticks": ""
            },
            "colorscale": [
             [
              0,
              "#0d0887"
             ],
             [
              0.1111111111111111,
              "#46039f"
             ],
             [
              0.2222222222222222,
              "#7201a8"
             ],
             [
              0.3333333333333333,
              "#9c179e"
             ],
             [
              0.4444444444444444,
              "#bd3786"
             ],
             [
              0.5555555555555556,
              "#d8576b"
             ],
             [
              0.6666666666666666,
              "#ed7953"
             ],
             [
              0.7777777777777778,
              "#fb9f3a"
             ],
             [
              0.8888888888888888,
              "#fdca26"
             ],
             [
              1,
              "#f0f921"
             ]
            ],
            "type": "heatmap"
           }
          ],
          "heatmapgl": [
           {
            "colorbar": {
             "outlinewidth": 0,
             "ticks": ""
            },
            "colorscale": [
             [
              0,
              "#0d0887"
             ],
             [
              0.1111111111111111,
              "#46039f"
             ],
             [
              0.2222222222222222,
              "#7201a8"
             ],
             [
              0.3333333333333333,
              "#9c179e"
             ],
             [
              0.4444444444444444,
              "#bd3786"
             ],
             [
              0.5555555555555556,
              "#d8576b"
             ],
             [
              0.6666666666666666,
              "#ed7953"
             ],
             [
              0.7777777777777778,
              "#fb9f3a"
             ],
             [
              0.8888888888888888,
              "#fdca26"
             ],
             [
              1,
              "#f0f921"
             ]
            ],
            "type": "heatmapgl"
           }
          ],
          "histogram": [
           {
            "marker": {
             "pattern": {
              "fillmode": "overlay",
              "size": 10,
              "solidity": 0.2
             }
            },
            "type": "histogram"
           }
          ],
          "histogram2d": [
           {
            "colorbar": {
             "outlinewidth": 0,
             "ticks": ""
            },
            "colorscale": [
             [
              0,
              "#0d0887"
             ],
             [
              0.1111111111111111,
              "#46039f"
             ],
             [
              0.2222222222222222,
              "#7201a8"
             ],
             [
              0.3333333333333333,
              "#9c179e"
             ],
             [
              0.4444444444444444,
              "#bd3786"
             ],
             [
              0.5555555555555556,
              "#d8576b"
             ],
             [
              0.6666666666666666,
              "#ed7953"
             ],
             [
              0.7777777777777778,
              "#fb9f3a"
             ],
             [
              0.8888888888888888,
              "#fdca26"
             ],
             [
              1,
              "#f0f921"
             ]
            ],
            "type": "histogram2d"
           }
          ],
          "histogram2dcontour": [
           {
            "colorbar": {
             "outlinewidth": 0,
             "ticks": ""
            },
            "colorscale": [
             [
              0,
              "#0d0887"
             ],
             [
              0.1111111111111111,
              "#46039f"
             ],
             [
              0.2222222222222222,
              "#7201a8"
             ],
             [
              0.3333333333333333,
              "#9c179e"
             ],
             [
              0.4444444444444444,
              "#bd3786"
             ],
             [
              0.5555555555555556,
              "#d8576b"
             ],
             [
              0.6666666666666666,
              "#ed7953"
             ],
             [
              0.7777777777777778,
              "#fb9f3a"
             ],
             [
              0.8888888888888888,
              "#fdca26"
             ],
             [
              1,
              "#f0f921"
             ]
            ],
            "type": "histogram2dcontour"
           }
          ],
          "mesh3d": [
           {
            "colorbar": {
             "outlinewidth": 0,
             "ticks": ""
            },
            "type": "mesh3d"
           }
          ],
          "parcoords": [
           {
            "line": {
             "colorbar": {
              "outlinewidth": 0,
              "ticks": ""
             }
            },
            "type": "parcoords"
           }
          ],
          "pie": [
           {
            "automargin": true,
            "type": "pie"
           }
          ],
          "scatter": [
           {
            "fillpattern": {
             "fillmode": "overlay",
             "size": 10,
             "solidity": 0.2
            },
            "type": "scatter"
           }
          ],
          "scatter3d": [
           {
            "line": {
             "colorbar": {
              "outlinewidth": 0,
              "ticks": ""
             }
            },
            "marker": {
             "colorbar": {
              "outlinewidth": 0,
              "ticks": ""
             }
            },
            "type": "scatter3d"
           }
          ],
          "scattercarpet": [
           {
            "marker": {
             "colorbar": {
              "outlinewidth": 0,
              "ticks": ""
             }
            },
            "type": "scattercarpet"
           }
          ],
          "scattergeo": [
           {
            "marker": {
             "colorbar": {
              "outlinewidth": 0,
              "ticks": ""
             }
            },
            "type": "scattergeo"
           }
          ],
          "scattergl": [
           {
            "marker": {
             "colorbar": {
              "outlinewidth": 0,
              "ticks": ""
             }
            },
            "type": "scattergl"
           }
          ],
          "scattermapbox": [
           {
            "marker": {
             "colorbar": {
              "outlinewidth": 0,
              "ticks": ""
             }
            },
            "type": "scattermapbox"
           }
          ],
          "scatterpolar": [
           {
            "marker": {
             "colorbar": {
              "outlinewidth": 0,
              "ticks": ""
             }
            },
            "type": "scatterpolar"
           }
          ],
          "scatterpolargl": [
           {
            "marker": {
             "colorbar": {
              "outlinewidth": 0,
              "ticks": ""
             }
            },
            "type": "scatterpolargl"
           }
          ],
          "scatterternary": [
           {
            "marker": {
             "colorbar": {
              "outlinewidth": 0,
              "ticks": ""
             }
            },
            "type": "scatterternary"
           }
          ],
          "surface": [
           {
            "colorbar": {
             "outlinewidth": 0,
             "ticks": ""
            },
            "colorscale": [
             [
              0,
              "#0d0887"
             ],
             [
              0.1111111111111111,
              "#46039f"
             ],
             [
              0.2222222222222222,
              "#7201a8"
             ],
             [
              0.3333333333333333,
              "#9c179e"
             ],
             [
              0.4444444444444444,
              "#bd3786"
             ],
             [
              0.5555555555555556,
              "#d8576b"
             ],
             [
              0.6666666666666666,
              "#ed7953"
             ],
             [
              0.7777777777777778,
              "#fb9f3a"
             ],
             [
              0.8888888888888888,
              "#fdca26"
             ],
             [
              1,
              "#f0f921"
             ]
            ],
            "type": "surface"
           }
          ],
          "table": [
           {
            "cells": {
             "fill": {
              "color": "#EBF0F8"
             },
             "line": {
              "color": "white"
             }
            },
            "header": {
             "fill": {
              "color": "#C8D4E3"
             },
             "line": {
              "color": "white"
             }
            },
            "type": "table"
           }
          ]
         },
         "layout": {
          "annotationdefaults": {
           "arrowcolor": "#2a3f5f",
           "arrowhead": 0,
           "arrowwidth": 1
          },
          "autotypenumbers": "strict",
          "coloraxis": {
           "colorbar": {
            "outlinewidth": 0,
            "ticks": ""
           }
          },
          "colorscale": {
           "diverging": [
            [
             0,
             "#8e0152"
            ],
            [
             0.1,
             "#c51b7d"
            ],
            [
             0.2,
             "#de77ae"
            ],
            [
             0.3,
             "#f1b6da"
            ],
            [
             0.4,
             "#fde0ef"
            ],
            [
             0.5,
             "#f7f7f7"
            ],
            [
             0.6,
             "#e6f5d0"
            ],
            [
             0.7,
             "#b8e186"
            ],
            [
             0.8,
             "#7fbc41"
            ],
            [
             0.9,
             "#4d9221"
            ],
            [
             1,
             "#276419"
            ]
           ],
           "sequential": [
            [
             0,
             "#0d0887"
            ],
            [
             0.1111111111111111,
             "#46039f"
            ],
            [
             0.2222222222222222,
             "#7201a8"
            ],
            [
             0.3333333333333333,
             "#9c179e"
            ],
            [
             0.4444444444444444,
             "#bd3786"
            ],
            [
             0.5555555555555556,
             "#d8576b"
            ],
            [
             0.6666666666666666,
             "#ed7953"
            ],
            [
             0.7777777777777778,
             "#fb9f3a"
            ],
            [
             0.8888888888888888,
             "#fdca26"
            ],
            [
             1,
             "#f0f921"
            ]
           ],
           "sequentialminus": [
            [
             0,
             "#0d0887"
            ],
            [
             0.1111111111111111,
             "#46039f"
            ],
            [
             0.2222222222222222,
             "#7201a8"
            ],
            [
             0.3333333333333333,
             "#9c179e"
            ],
            [
             0.4444444444444444,
             "#bd3786"
            ],
            [
             0.5555555555555556,
             "#d8576b"
            ],
            [
             0.6666666666666666,
             "#ed7953"
            ],
            [
             0.7777777777777778,
             "#fb9f3a"
            ],
            [
             0.8888888888888888,
             "#fdca26"
            ],
            [
             1,
             "#f0f921"
            ]
           ]
          },
          "colorway": [
           "#636efa",
           "#EF553B",
           "#00cc96",
           "#ab63fa",
           "#FFA15A",
           "#19d3f3",
           "#FF6692",
           "#B6E880",
           "#FF97FF",
           "#FECB52"
          ],
          "font": {
           "color": "#2a3f5f"
          },
          "geo": {
           "bgcolor": "white",
           "lakecolor": "white",
           "landcolor": "white",
           "showlakes": true,
           "showland": true,
           "subunitcolor": "#C8D4E3"
          },
          "hoverlabel": {
           "align": "left"
          },
          "hovermode": "closest",
          "mapbox": {
           "style": "light"
          },
          "paper_bgcolor": "white",
          "plot_bgcolor": "white",
          "polar": {
           "angularaxis": {
            "gridcolor": "#EBF0F8",
            "linecolor": "#EBF0F8",
            "ticks": ""
           },
           "bgcolor": "white",
           "radialaxis": {
            "gridcolor": "#EBF0F8",
            "linecolor": "#EBF0F8",
            "ticks": ""
           }
          },
          "scene": {
           "xaxis": {
            "backgroundcolor": "white",
            "gridcolor": "#DFE8F3",
            "gridwidth": 2,
            "linecolor": "#EBF0F8",
            "showbackground": true,
            "ticks": "",
            "zerolinecolor": "#EBF0F8"
           },
           "yaxis": {
            "backgroundcolor": "white",
            "gridcolor": "#DFE8F3",
            "gridwidth": 2,
            "linecolor": "#EBF0F8",
            "showbackground": true,
            "ticks": "",
            "zerolinecolor": "#EBF0F8"
           },
           "zaxis": {
            "backgroundcolor": "white",
            "gridcolor": "#DFE8F3",
            "gridwidth": 2,
            "linecolor": "#EBF0F8",
            "showbackground": true,
            "ticks": "",
            "zerolinecolor": "#EBF0F8"
           }
          },
          "shapedefaults": {
           "line": {
            "color": "#2a3f5f"
           }
          },
          "ternary": {
           "aaxis": {
            "gridcolor": "#DFE8F3",
            "linecolor": "#A2B1C6",
            "ticks": ""
           },
           "baxis": {
            "gridcolor": "#DFE8F3",
            "linecolor": "#A2B1C6",
            "ticks": ""
           },
           "bgcolor": "white",
           "caxis": {
            "gridcolor": "#DFE8F3",
            "linecolor": "#A2B1C6",
            "ticks": ""
           }
          },
          "title": {
           "x": 0.05
          },
          "xaxis": {
           "automargin": true,
           "gridcolor": "#EBF0F8",
           "linecolor": "#EBF0F8",
           "ticks": "",
           "title": {
            "standoff": 15
           },
           "zerolinecolor": "#EBF0F8",
           "zerolinewidth": 2
          },
          "yaxis": {
           "automargin": true,
           "gridcolor": "#EBF0F8",
           "linecolor": "#EBF0F8",
           "ticks": "",
           "title": {
            "standoff": 15
           },
           "zerolinecolor": "#EBF0F8",
           "zerolinewidth": 2
          }
         }
        },
        "title": {
         "text": "Average Bounce Rate by Retention Segment"
        },
        "xaxis": {
         "anchor": "y",
         "domain": [
          0,
          1
         ],
         "title": {
          "text": "Retention Segment"
         }
        },
        "yaxis": {
         "anchor": "x",
         "domain": [
          0,
          1
         ],
         "title": {
          "text": "Average Bounce Rate"
         }
        }
       }
      }
     },
     "metadata": {},
     "output_type": "display_data"
    }
   ],
   "source": [
    "## The average bounce rate by retention segment\n",
    "\n",
    "# Calculate the average bounce rate for each retention segment\n",
    "segment_bounce_rates = data.groupby('Retention Segment')['Bounce Rate'].mean().reset_index()\n",
    "\n",
    "# Create a bar chart to visualize the average bounce rates by retention segment\n",
    "bar_fig = px.bar(segment_bounce_rates, x='Retention Segment', y='Bounce Rate',\n",
    "                 title='Average Bounce Rate by Retention Segment',\n",
    "                 labels={'Retention Segment': 'Retention Segment', 'Bounce Rate': 'Average Bounce Rate'})\n",
    "\n",
    "bar_fig.show()"
   ]
  },
  {
   "cell_type": "code",
   "execution_count": 19,
   "metadata": {},
   "outputs": [
    {
     "data": {
      "application/vnd.plotly.v1+json": {
       "config": {
        "plotlyServerURL": "https://plot.ly"
       },
       "data": [
        {
         "customdata": [
          [
           "Occasional Users"
          ],
          [
           "Frequent Users"
          ]
         ],
         "domain": {
          "x": [
           0,
           1
          ],
          "y": [
           0,
           1
          ]
         },
         "hovertemplate": "Retention Segment=%{customdata[0]}<br>value=%{value}<extra></extra>",
         "labels": [
          "Occasional Users",
          "Frequent Users"
         ],
         "legendgroup": "",
         "marker": {
          "colors": [
           "#FFB6C5",
           "#87CEFA"
          ]
         },
         "name": "",
         "showlegend": true,
         "textinfo": "percent+label",
         "textposition": "inside",
         "type": "pie",
         "values": [
          702,
          297
         ]
        }
       ],
       "layout": {
        "legend": {
         "tracegroupgap": 0
        },
        "piecolorway": [
         "#FFB6C5",
         "#87CEFA"
        ],
        "showlegend": false,
        "template": {
         "data": {
          "bar": [
           {
            "error_x": {
             "color": "#2a3f5f"
            },
            "error_y": {
             "color": "#2a3f5f"
            },
            "marker": {
             "line": {
              "color": "white",
              "width": 0.5
             },
             "pattern": {
              "fillmode": "overlay",
              "size": 10,
              "solidity": 0.2
             }
            },
            "type": "bar"
           }
          ],
          "barpolar": [
           {
            "marker": {
             "line": {
              "color": "white",
              "width": 0.5
             },
             "pattern": {
              "fillmode": "overlay",
              "size": 10,
              "solidity": 0.2
             }
            },
            "type": "barpolar"
           }
          ],
          "carpet": [
           {
            "aaxis": {
             "endlinecolor": "#2a3f5f",
             "gridcolor": "#C8D4E3",
             "linecolor": "#C8D4E3",
             "minorgridcolor": "#C8D4E3",
             "startlinecolor": "#2a3f5f"
            },
            "baxis": {
             "endlinecolor": "#2a3f5f",
             "gridcolor": "#C8D4E3",
             "linecolor": "#C8D4E3",
             "minorgridcolor": "#C8D4E3",
             "startlinecolor": "#2a3f5f"
            },
            "type": "carpet"
           }
          ],
          "choropleth": [
           {
            "colorbar": {
             "outlinewidth": 0,
             "ticks": ""
            },
            "type": "choropleth"
           }
          ],
          "contour": [
           {
            "colorbar": {
             "outlinewidth": 0,
             "ticks": ""
            },
            "colorscale": [
             [
              0,
              "#0d0887"
             ],
             [
              0.1111111111111111,
              "#46039f"
             ],
             [
              0.2222222222222222,
              "#7201a8"
             ],
             [
              0.3333333333333333,
              "#9c179e"
             ],
             [
              0.4444444444444444,
              "#bd3786"
             ],
             [
              0.5555555555555556,
              "#d8576b"
             ],
             [
              0.6666666666666666,
              "#ed7953"
             ],
             [
              0.7777777777777778,
              "#fb9f3a"
             ],
             [
              0.8888888888888888,
              "#fdca26"
             ],
             [
              1,
              "#f0f921"
             ]
            ],
            "type": "contour"
           }
          ],
          "contourcarpet": [
           {
            "colorbar": {
             "outlinewidth": 0,
             "ticks": ""
            },
            "type": "contourcarpet"
           }
          ],
          "heatmap": [
           {
            "colorbar": {
             "outlinewidth": 0,
             "ticks": ""
            },
            "colorscale": [
             [
              0,
              "#0d0887"
             ],
             [
              0.1111111111111111,
              "#46039f"
             ],
             [
              0.2222222222222222,
              "#7201a8"
             ],
             [
              0.3333333333333333,
              "#9c179e"
             ],
             [
              0.4444444444444444,
              "#bd3786"
             ],
             [
              0.5555555555555556,
              "#d8576b"
             ],
             [
              0.6666666666666666,
              "#ed7953"
             ],
             [
              0.7777777777777778,
              "#fb9f3a"
             ],
             [
              0.8888888888888888,
              "#fdca26"
             ],
             [
              1,
              "#f0f921"
             ]
            ],
            "type": "heatmap"
           }
          ],
          "heatmapgl": [
           {
            "colorbar": {
             "outlinewidth": 0,
             "ticks": ""
            },
            "colorscale": [
             [
              0,
              "#0d0887"
             ],
             [
              0.1111111111111111,
              "#46039f"
             ],
             [
              0.2222222222222222,
              "#7201a8"
             ],
             [
              0.3333333333333333,
              "#9c179e"
             ],
             [
              0.4444444444444444,
              "#bd3786"
             ],
             [
              0.5555555555555556,
              "#d8576b"
             ],
             [
              0.6666666666666666,
              "#ed7953"
             ],
             [
              0.7777777777777778,
              "#fb9f3a"
             ],
             [
              0.8888888888888888,
              "#fdca26"
             ],
             [
              1,
              "#f0f921"
             ]
            ],
            "type": "heatmapgl"
           }
          ],
          "histogram": [
           {
            "marker": {
             "pattern": {
              "fillmode": "overlay",
              "size": 10,
              "solidity": 0.2
             }
            },
            "type": "histogram"
           }
          ],
          "histogram2d": [
           {
            "colorbar": {
             "outlinewidth": 0,
             "ticks": ""
            },
            "colorscale": [
             [
              0,
              "#0d0887"
             ],
             [
              0.1111111111111111,
              "#46039f"
             ],
             [
              0.2222222222222222,
              "#7201a8"
             ],
             [
              0.3333333333333333,
              "#9c179e"
             ],
             [
              0.4444444444444444,
              "#bd3786"
             ],
             [
              0.5555555555555556,
              "#d8576b"
             ],
             [
              0.6666666666666666,
              "#ed7953"
             ],
             [
              0.7777777777777778,
              "#fb9f3a"
             ],
             [
              0.8888888888888888,
              "#fdca26"
             ],
             [
              1,
              "#f0f921"
             ]
            ],
            "type": "histogram2d"
           }
          ],
          "histogram2dcontour": [
           {
            "colorbar": {
             "outlinewidth": 0,
             "ticks": ""
            },
            "colorscale": [
             [
              0,
              "#0d0887"
             ],
             [
              0.1111111111111111,
              "#46039f"
             ],
             [
              0.2222222222222222,
              "#7201a8"
             ],
             [
              0.3333333333333333,
              "#9c179e"
             ],
             [
              0.4444444444444444,
              "#bd3786"
             ],
             [
              0.5555555555555556,
              "#d8576b"
             ],
             [
              0.6666666666666666,
              "#ed7953"
             ],
             [
              0.7777777777777778,
              "#fb9f3a"
             ],
             [
              0.8888888888888888,
              "#fdca26"
             ],
             [
              1,
              "#f0f921"
             ]
            ],
            "type": "histogram2dcontour"
           }
          ],
          "mesh3d": [
           {
            "colorbar": {
             "outlinewidth": 0,
             "ticks": ""
            },
            "type": "mesh3d"
           }
          ],
          "parcoords": [
           {
            "line": {
             "colorbar": {
              "outlinewidth": 0,
              "ticks": ""
             }
            },
            "type": "parcoords"
           }
          ],
          "pie": [
           {
            "automargin": true,
            "type": "pie"
           }
          ],
          "scatter": [
           {
            "fillpattern": {
             "fillmode": "overlay",
             "size": 10,
             "solidity": 0.2
            },
            "type": "scatter"
           }
          ],
          "scatter3d": [
           {
            "line": {
             "colorbar": {
              "outlinewidth": 0,
              "ticks": ""
             }
            },
            "marker": {
             "colorbar": {
              "outlinewidth": 0,
              "ticks": ""
             }
            },
            "type": "scatter3d"
           }
          ],
          "scattercarpet": [
           {
            "marker": {
             "colorbar": {
              "outlinewidth": 0,
              "ticks": ""
             }
            },
            "type": "scattercarpet"
           }
          ],
          "scattergeo": [
           {
            "marker": {
             "colorbar": {
              "outlinewidth": 0,
              "ticks": ""
             }
            },
            "type": "scattergeo"
           }
          ],
          "scattergl": [
           {
            "marker": {
             "colorbar": {
              "outlinewidth": 0,
              "ticks": ""
             }
            },
            "type": "scattergl"
           }
          ],
          "scattermapbox": [
           {
            "marker": {
             "colorbar": {
              "outlinewidth": 0,
              "ticks": ""
             }
            },
            "type": "scattermapbox"
           }
          ],
          "scatterpolar": [
           {
            "marker": {
             "colorbar": {
              "outlinewidth": 0,
              "ticks": ""
             }
            },
            "type": "scatterpolar"
           }
          ],
          "scatterpolargl": [
           {
            "marker": {
             "colorbar": {
              "outlinewidth": 0,
              "ticks": ""
             }
            },
            "type": "scatterpolargl"
           }
          ],
          "scatterternary": [
           {
            "marker": {
             "colorbar": {
              "outlinewidth": 0,
              "ticks": ""
             }
            },
            "type": "scatterternary"
           }
          ],
          "surface": [
           {
            "colorbar": {
             "outlinewidth": 0,
             "ticks": ""
            },
            "colorscale": [
             [
              0,
              "#0d0887"
             ],
             [
              0.1111111111111111,
              "#46039f"
             ],
             [
              0.2222222222222222,
              "#7201a8"
             ],
             [
              0.3333333333333333,
              "#9c179e"
             ],
             [
              0.4444444444444444,
              "#bd3786"
             ],
             [
              0.5555555555555556,
              "#d8576b"
             ],
             [
              0.6666666666666666,
              "#ed7953"
             ],
             [
              0.7777777777777778,
              "#fb9f3a"
             ],
             [
              0.8888888888888888,
              "#fdca26"
             ],
             [
              1,
              "#f0f921"
             ]
            ],
            "type": "surface"
           }
          ],
          "table": [
           {
            "cells": {
             "fill": {
              "color": "#EBF0F8"
             },
             "line": {
              "color": "white"
             }
            },
            "header": {
             "fill": {
              "color": "#C8D4E3"
             },
             "line": {
              "color": "white"
             }
            },
            "type": "table"
           }
          ]
         },
         "layout": {
          "annotationdefaults": {
           "arrowcolor": "#2a3f5f",
           "arrowhead": 0,
           "arrowwidth": 1
          },
          "autotypenumbers": "strict",
          "coloraxis": {
           "colorbar": {
            "outlinewidth": 0,
            "ticks": ""
           }
          },
          "colorscale": {
           "diverging": [
            [
             0,
             "#8e0152"
            ],
            [
             0.1,
             "#c51b7d"
            ],
            [
             0.2,
             "#de77ae"
            ],
            [
             0.3,
             "#f1b6da"
            ],
            [
             0.4,
             "#fde0ef"
            ],
            [
             0.5,
             "#f7f7f7"
            ],
            [
             0.6,
             "#e6f5d0"
            ],
            [
             0.7,
             "#b8e186"
            ],
            [
             0.8,
             "#7fbc41"
            ],
            [
             0.9,
             "#4d9221"
            ],
            [
             1,
             "#276419"
            ]
           ],
           "sequential": [
            [
             0,
             "#0d0887"
            ],
            [
             0.1111111111111111,
             "#46039f"
            ],
            [
             0.2222222222222222,
             "#7201a8"
            ],
            [
             0.3333333333333333,
             "#9c179e"
            ],
            [
             0.4444444444444444,
             "#bd3786"
            ],
            [
             0.5555555555555556,
             "#d8576b"
            ],
            [
             0.6666666666666666,
             "#ed7953"
            ],
            [
             0.7777777777777778,
             "#fb9f3a"
            ],
            [
             0.8888888888888888,
             "#fdca26"
            ],
            [
             1,
             "#f0f921"
            ]
           ],
           "sequentialminus": [
            [
             0,
             "#0d0887"
            ],
            [
             0.1111111111111111,
             "#46039f"
            ],
            [
             0.2222222222222222,
             "#7201a8"
            ],
            [
             0.3333333333333333,
             "#9c179e"
            ],
            [
             0.4444444444444444,
             "#bd3786"
            ],
            [
             0.5555555555555556,
             "#d8576b"
            ],
            [
             0.6666666666666666,
             "#ed7953"
            ],
            [
             0.7777777777777778,
             "#fb9f3a"
            ],
            [
             0.8888888888888888,
             "#fdca26"
            ],
            [
             1,
             "#f0f921"
            ]
           ]
          },
          "colorway": [
           "#636efa",
           "#EF553B",
           "#00cc96",
           "#ab63fa",
           "#FFA15A",
           "#19d3f3",
           "#FF6692",
           "#B6E880",
           "#FF97FF",
           "#FECB52"
          ],
          "font": {
           "color": "#2a3f5f"
          },
          "geo": {
           "bgcolor": "white",
           "lakecolor": "white",
           "landcolor": "white",
           "showlakes": true,
           "showland": true,
           "subunitcolor": "#C8D4E3"
          },
          "hoverlabel": {
           "align": "left"
          },
          "hovermode": "closest",
          "mapbox": {
           "style": "light"
          },
          "paper_bgcolor": "white",
          "plot_bgcolor": "white",
          "polar": {
           "angularaxis": {
            "gridcolor": "#EBF0F8",
            "linecolor": "#EBF0F8",
            "ticks": ""
           },
           "bgcolor": "white",
           "radialaxis": {
            "gridcolor": "#EBF0F8",
            "linecolor": "#EBF0F8",
            "ticks": ""
           }
          },
          "scene": {
           "xaxis": {
            "backgroundcolor": "white",
            "gridcolor": "#DFE8F3",
            "gridwidth": 2,
            "linecolor": "#EBF0F8",
            "showbackground": true,
            "ticks": "",
            "zerolinecolor": "#EBF0F8"
           },
           "yaxis": {
            "backgroundcolor": "white",
            "gridcolor": "#DFE8F3",
            "gridwidth": 2,
            "linecolor": "#EBF0F8",
            "showbackground": true,
            "ticks": "",
            "zerolinecolor": "#EBF0F8"
           },
           "zaxis": {
            "backgroundcolor": "white",
            "gridcolor": "#DFE8F3",
            "gridwidth": 2,
            "linecolor": "#EBF0F8",
            "showbackground": true,
            "ticks": "",
            "zerolinecolor": "#EBF0F8"
           }
          },
          "shapedefaults": {
           "line": {
            "color": "#2a3f5f"
           }
          },
          "ternary": {
           "aaxis": {
            "gridcolor": "#DFE8F3",
            "linecolor": "#A2B1C6",
            "ticks": ""
           },
           "baxis": {
            "gridcolor": "#DFE8F3",
            "linecolor": "#A2B1C6",
            "ticks": ""
           },
           "bgcolor": "white",
           "caxis": {
            "gridcolor": "#DFE8F3",
            "linecolor": "#A2B1C6",
            "ticks": ""
           }
          },
          "title": {
           "x": 0.05
          },
          "xaxis": {
           "automargin": true,
           "gridcolor": "#EBF0F8",
           "linecolor": "#EBF0F8",
           "ticks": "",
           "title": {
            "standoff": 15
           },
           "zerolinecolor": "#EBF0F8",
           "zerolinewidth": 2
          },
          "yaxis": {
           "automargin": true,
           "gridcolor": "#EBF0F8",
           "linecolor": "#EBF0F8",
           "ticks": "",
           "title": {
            "standoff": 15
           },
           "zerolinecolor": "#EBF0F8",
           "zerolinewidth": 2
          }
         }
        },
        "title": {
         "text": "User Retention Rate"
        }
       }
      }
     },
     "metadata": {},
     "output_type": "display_data"
    }
   ],
   "source": [
    "## The percentage of retained users\n",
    "\n",
    "# Count the number of users in each retention segment\n",
    "segment_counts = data['Retention Segment'].value_counts()\n",
    "\n",
    "# Define the pastel colors\n",
    "colors = ['#FFB6C5', '#87CEFA']\n",
    "\n",
    "# Create a pie chart using Plotly\n",
    "fig = px.pie(segment_counts, \n",
    "             values=segment_counts.values, \n",
    "             names=segment_counts.index, \n",
    "             color=segment_counts.index, \n",
    "             color_discrete_sequence=colors,\n",
    "             title='User Retention Rate')\n",
    "\n",
    "# Update layout and show the chart\n",
    "fig.update_traces(textposition='inside', textinfo='percent+label')\n",
    "fig.update_layout(showlegend=False)\n",
    "fig.show()"
   ]
  },
  {
   "cell_type": "markdown",
   "metadata": {},
   "source": [
    "In the data of 1000 users, the platform retained 29.7% of users (297 users) who frequently visit the platform. "
   ]
  },
  {
   "cell_type": "code",
   "execution_count": 20,
   "metadata": {},
   "outputs": [],
   "source": [
    "New_User_Engagement = pd.DataFrame(data)\n",
    "\n",
    "# Save the DataFrame to a CSV file\n",
    "New_User_Engagement.to_csv('new_user_engagement_dataset.csv', index=False)"
   ]
  }
 ],
 "metadata": {
  "kernelspec": {
   "display_name": "Python 3",
   "language": "python",
   "name": "python3"
  },
  "language_info": {
   "codemirror_mode": {
    "name": "ipython",
    "version": 3
   },
   "file_extension": ".py",
   "mimetype": "text/x-python",
   "name": "python",
   "nbconvert_exporter": "python",
   "pygments_lexer": "ipython3",
   "version": "3.11.8"
  }
 },
 "nbformat": 4,
 "nbformat_minor": 2
}
